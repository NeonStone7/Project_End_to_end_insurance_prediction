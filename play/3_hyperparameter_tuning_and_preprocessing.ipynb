{
 "cells": [
  {
   "cell_type": "code",
   "execution_count": 2,
   "id": "4a20611d",
   "metadata": {},
   "outputs": [],
   "source": [
    "# miscellaneous\n",
    "import matplotlib.pyplot as plt\n",
    "\n",
    "from glob import glob #library that helps us search for files\n",
    "import scipy\n",
    "import random\n",
    "from datetime import datetime\n",
    "import numpy as np\n",
    "import pandas as pd\n",
    "import seaborn as sns\n",
    "import plotly.express as px\n",
    "from scipy.special import inv_boxcox\n",
    "from skopt import BayesSearchCV\n",
    "from skopt.space import Real, Integer, Categorical\n",
    "\n",
    "# hyperparameter tuning\n",
    "from hyperopt import hp\n",
    "from hyperopt import tpe, hp, fmin, STATUS_OK,Trials, partial\n",
    "\n",
    "# preprocessing\n",
    "from category_encoders import OneHotEncoder,TargetEncoder,OrdinalEncoder\n",
    "from sklearn.preprocessing import StandardScaler, MinMaxScaler, FunctionTransformer, PowerTransformer,LabelEncoder, MaxAbsScaler, RobustScaler\n",
    "from sklearn.preprocessing import LabelEncoder\n",
    "from sklearn.preprocessing import PolynomialFeatures\n",
    "from sklearn.experimental import enable_iterative_imputer\n",
    "from sklearn.impute import SimpleImputer, IterativeImputer\n",
    "from sklearn.model_selection import train_test_split,GridSearchCV,RandomizedSearchCV, StratifiedShuffleSplit\n",
    "from sklearn.model_selection import cross_val_score,cross_val_predict, KFold, StratifiedKFold\n",
    "from sklearn.compose import ColumnTransformer\n",
    "from sklearn.preprocessing import StandardScaler, MinMaxScaler, FunctionTransformer, PowerTransformer,LabelEncoder, MaxAbsScaler, RobustScaler\n",
    "\n",
    "# models\n",
    "from sklearn.tree import DecisionTreeClassifier\n",
    "from sklearn.linear_model import LogisticRegression,BayesianRidge, ElasticNet, Lasso\n",
    "from sklearn.dummy import DummyClassifier\n",
    "import xgboost as xgb\n",
    "from sklearn.svm import SVC\n",
    "from sklearn.discriminant_analysis import LinearDiscriminantAnalysis\n",
    "from sklearn.ensemble import RandomForestClassifier, AdaBoostClassifier, ExtraTreesClassifier, GradientBoostingClassifier\n",
    "from sklearn.ensemble import BaggingClassifier, VotingClassifier, RandomForestRegressor\n",
    "from sklearn.neighbors import KNeighborsClassifier\n",
    "from sklearn.base import clone\n",
    "import lightgbm as lgb\n",
    "\n",
    "# metrics\n",
    "from sklearn.metrics import accuracy_score, precision_score, recall_score, f1_score, roc_curve, roc_auc_score\n",
    "from sklearn.metrics import log_loss, confusion_matrix, classification_report, precision_recall_curve\n",
    "from sklearn.metrics import ConfusionMatrixDisplay, RocCurveDisplay, PrecisionRecallDisplay\n",
    "from sklearn.pipeline import make_pipeline, Pipeline\n",
    "from sklearn.utils.validation import check_is_fitted\n",
    "\n",
    "# feature selection / data sampling\n",
    "from sklearn.feature_selection import RFE, SelectKBest, f_classif, SelectFromModel, VarianceThreshold\n",
    "from imblearn.over_sampling import SMOTE, ADASYN\n",
    "from sklearn.neighbors import KNeighborsClassifier\n",
    "from imblearn.over_sampling import RandomOverSampler\n",
    "from imblearn.under_sampling import RandomUnderSampler\n",
    "from sklearn.inspection import permutation_importance\n",
    "\n",
    "# saving model\n",
    "import pickle,joblib\n",
    "import boto3\n",
    "\n",
    "# data settings\n",
    "pd.pandas.set_option('display.max_rows',None)\n",
    "pd.pandas.set_option('display.max_columns',None)\n",
    "pd.set_option('display.max_colwidth', None)\n",
    "\n",
    "\n",
    "from sklearn import set_config\n",
    "set_config(transform_output = 'pandas')\n",
    "\n",
    "import warnings\n",
    "warnings.simplefilter(action=\"ignore\")\n",
    "\n",
    "\n",
    "import json\n",
    "\n",
    "# custom package\n",
    "import importlib\n",
    "import package\n",
    "importlib.reload(package)\n",
    "\n",
    "from package.data_retrieval.data_retrieval import s3_retrieval, write_to_s3\n",
    "from package.eda.data_exploration import correlation\n",
    "from package.training.model_training import model_evaluation, split_data_by_type\n",
    "from package.preprocessing.data_preprocessing import create_pipeline, winsorize, percentile_imputer, random_sample_imputer, count_encoder "
   ]
  },
  {
   "cell_type": "markdown",
   "id": "4372f118",
   "metadata": {},
   "source": [
    "# Read Config"
   ]
  },
  {
   "cell_type": "code",
   "execution_count": 3,
   "id": "d89a5e02",
   "metadata": {},
   "outputs": [],
   "source": [
    "config_path = \"C:/Users/Oamen/OneDrive/Documents/DATA PROJECTS/Insurance_claim_prediction_porto/config.json\""
   ]
  },
  {
   "cell_type": "code",
   "execution_count": 13,
   "id": "8e877ba5",
   "metadata": {},
   "outputs": [],
   "source": [
    "# Opening JSON file\n",
    "with open(config_path) as file:\n",
    "    \n",
    "    config = json.load(file)"
   ]
  },
  {
   "cell_type": "code",
   "execution_count": 14,
   "id": "fd880a5b",
   "metadata": {},
   "outputs": [],
   "source": [
    "config['Model Training'] = {}\n",
    "\n",
    "config['Model Training']['Preprocessor'] = {}"
   ]
  },
  {
   "cell_type": "markdown",
   "id": "1b5b909c",
   "metadata": {},
   "source": [
    "# Read Data"
   ]
  },
  {
   "cell_type": "code",
   "execution_count": 15,
   "id": "5c290893",
   "metadata": {},
   "outputs": [],
   "source": [
    "# get access key\n",
    "secret = pd.read_csv(\"C:/Users/Oamen/Downloads/jupyter_iam_accessKeys.csv\")"
   ]
  },
  {
   "cell_type": "code",
   "execution_count": 16,
   "id": "52d1635d",
   "metadata": {},
   "outputs": [],
   "source": [
    "# create S3 client object \n",
    "s3_client = boto3.client('s3',aws_access_key_id=secret['Access key ID'][0],aws_secret_access_key=secret['Secret access key'][0])"
   ]
  },
  {
   "cell_type": "code",
   "execution_count": 17,
   "id": "dc48c338",
   "metadata": {},
   "outputs": [],
   "source": [
    "bucket_name = config['EDA']['bucket_name'] "
   ]
  },
  {
   "cell_type": "code",
   "execution_count": 18,
   "id": "70e0f4b4",
   "metadata": {},
   "outputs": [
    {
     "name": "stdout",
     "output_type": "stream",
     "text": [
      "Retrieved object\n",
      "Read bytes\n",
      "Success!\n"
     ]
    }
   ],
   "source": [
    "# retrieve data\n",
    "full_train_df = s3_retrieval(s3_client, bucket_name, config['Model_Selection']['Input_data']['full_train'])"
   ]
  },
  {
   "cell_type": "code",
   "execution_count": 19,
   "id": "265a26fa",
   "metadata": {},
   "outputs": [],
   "source": [
    "#reduced_train_df = s3_retrieval(s3_client, bucket_name, reduced_train_new_key)"
   ]
  },
  {
   "cell_type": "code",
   "execution_count": 20,
   "id": "c83f6b40",
   "metadata": {},
   "outputs": [
    {
     "name": "stdout",
     "output_type": "stream",
     "text": [
      "Retrieved object\n",
      "Read bytes\n",
      "Success!\n"
     ]
    }
   ],
   "source": [
    "validation_df = s3_retrieval(s3_client, bucket_name, config['Model_Selection']['Input_data']['validation'])"
   ]
  },
  {
   "cell_type": "code",
   "execution_count": 21,
   "id": "74742ba1",
   "metadata": {},
   "outputs": [
    {
     "name": "stdout",
     "output_type": "stream",
     "text": [
      "Retrieved object\n",
      "Read bytes\n",
      "Success!\n"
     ]
    }
   ],
   "source": [
    "test_df = s3_retrieval(s3_client, bucket_name, config['Model_Selection']['Input_data']['test'])"
   ]
  },
  {
   "cell_type": "markdown",
   "id": "f092df6a",
   "metadata": {},
   "source": [
    "# Training Preprocessor"
   ]
  },
  {
   "cell_type": "markdown",
   "id": "99b24f7d",
   "metadata": {},
   "source": [
    "## Preprocessor - Experiment 1\n",
    "\n",
    "1. Missing Values: Simple\n",
    "2. Encoding: One-Hot\n",
    "3. Transformation: Log\n",
    "4. Outliers: Winsorize(0.95-0.05)\n",
    "5. Scaling: StandardScaler\n",
    "6. Resampling: SMOTE\n",
    "7. Feature Selection: Enet Coefs"
   ]
  },
  {
   "cell_type": "code",
   "execution_count": 22,
   "id": "ee5fddcd",
   "metadata": {},
   "outputs": [],
   "source": [
    "categorical_exp1, numerical_exp1, xtrain_exp1, ytrain_exp1 = split_data_by_type(full_train_df, config['EDA']['target'])"
   ]
  },
  {
   "cell_type": "code",
   "execution_count": 23,
   "id": "c55fc221",
   "metadata": {},
   "outputs": [],
   "source": [
    "categorical_exp1, numerical_exp1, xvalidation_exp1, yvalidation_exp1 = split_data_by_type(validation_df, config['EDA']['target'])"
   ]
  },
  {
   "cell_type": "code",
   "execution_count": 24,
   "id": "3ab397a6",
   "metadata": {},
   "outputs": [],
   "source": [
    "num_pipeline_exp1 = Pipeline([\n",
    "    ('transformer', FunctionTransformer(np.log1p)),\n",
    "    ('imputer', SimpleImputer(strategy = 'median')),\n",
    "    ('winsorize', FunctionTransformer(winsorize)),\n",
    "    ('scaler', StandardScaler()),  \n",
    "])\n",
    "\n",
    "cat_pipeline_exp1 = Pipeline([\n",
    "    ('imputer', SimpleImputer(strategy = 'most_frequent')),\n",
    "    ('encoder', OneHotEncoder()),\n",
    "    \n",
    "])"
   ]
  },
  {
   "cell_type": "code",
   "execution_count": 25,
   "id": "e55166e5",
   "metadata": {},
   "outputs": [],
   "source": [
    "pipeline_exp1 = create_pipeline(num_pipeline_exp1, numerical_exp1, cat_pipeline_exp1, categorical_exp1)"
   ]
  },
  {
   "cell_type": "code",
   "execution_count": 26,
   "id": "7f0096e1",
   "metadata": {},
   "outputs": [],
   "source": [
    "xtrain_exp1 = pipeline_exp1.fit_transform(xtrain_exp1)"
   ]
  },
  {
   "cell_type": "code",
   "execution_count": 27,
   "id": "02ec4340",
   "metadata": {},
   "outputs": [],
   "source": [
    "xvalidation_exp1 = pipeline_exp1.transform(xvalidation_exp1)"
   ]
  },
  {
   "cell_type": "code",
   "execution_count": 28,
   "id": "c2cc2fb7",
   "metadata": {},
   "outputs": [],
   "source": [
    "# smote\n",
    "\n",
    "smote = SMOTE()"
   ]
  },
  {
   "cell_type": "code",
   "execution_count": 29,
   "id": "08930c32",
   "metadata": {},
   "outputs": [],
   "source": [
    "xtrain_exp1, ytrain_exp1 = smote.fit_resample(xtrain_exp1, ytrain_exp1)"
   ]
  },
  {
   "cell_type": "code",
   "execution_count": 30,
   "id": "84de4237",
   "metadata": {},
   "outputs": [
    {
     "data": {
      "text/html": [
       "<style>#sk-container-id-1 {color: black;background-color: white;}#sk-container-id-1 pre{padding: 0;}#sk-container-id-1 div.sk-toggleable {background-color: white;}#sk-container-id-1 label.sk-toggleable__label {cursor: pointer;display: block;width: 100%;margin-bottom: 0;padding: 0.3em;box-sizing: border-box;text-align: center;}#sk-container-id-1 label.sk-toggleable__label-arrow:before {content: \"▸\";float: left;margin-right: 0.25em;color: #696969;}#sk-container-id-1 label.sk-toggleable__label-arrow:hover:before {color: black;}#sk-container-id-1 div.sk-estimator:hover label.sk-toggleable__label-arrow:before {color: black;}#sk-container-id-1 div.sk-toggleable__content {max-height: 0;max-width: 0;overflow: hidden;text-align: left;background-color: #f0f8ff;}#sk-container-id-1 div.sk-toggleable__content pre {margin: 0.2em;color: black;border-radius: 0.25em;background-color: #f0f8ff;}#sk-container-id-1 input.sk-toggleable__control:checked~div.sk-toggleable__content {max-height: 200px;max-width: 100%;overflow: auto;}#sk-container-id-1 input.sk-toggleable__control:checked~label.sk-toggleable__label-arrow:before {content: \"▾\";}#sk-container-id-1 div.sk-estimator input.sk-toggleable__control:checked~label.sk-toggleable__label {background-color: #d4ebff;}#sk-container-id-1 div.sk-label input.sk-toggleable__control:checked~label.sk-toggleable__label {background-color: #d4ebff;}#sk-container-id-1 input.sk-hidden--visually {border: 0;clip: rect(1px 1px 1px 1px);clip: rect(1px, 1px, 1px, 1px);height: 1px;margin: -1px;overflow: hidden;padding: 0;position: absolute;width: 1px;}#sk-container-id-1 div.sk-estimator {font-family: monospace;background-color: #f0f8ff;border: 1px dotted black;border-radius: 0.25em;box-sizing: border-box;margin-bottom: 0.5em;}#sk-container-id-1 div.sk-estimator:hover {background-color: #d4ebff;}#sk-container-id-1 div.sk-parallel-item::after {content: \"\";width: 100%;border-bottom: 1px solid gray;flex-grow: 1;}#sk-container-id-1 div.sk-label:hover label.sk-toggleable__label {background-color: #d4ebff;}#sk-container-id-1 div.sk-serial::before {content: \"\";position: absolute;border-left: 1px solid gray;box-sizing: border-box;top: 0;bottom: 0;left: 50%;z-index: 0;}#sk-container-id-1 div.sk-serial {display: flex;flex-direction: column;align-items: center;background-color: white;padding-right: 0.2em;padding-left: 0.2em;position: relative;}#sk-container-id-1 div.sk-item {position: relative;z-index: 1;}#sk-container-id-1 div.sk-parallel {display: flex;align-items: stretch;justify-content: center;background-color: white;position: relative;}#sk-container-id-1 div.sk-item::before, #sk-container-id-1 div.sk-parallel-item::before {content: \"\";position: absolute;border-left: 1px solid gray;box-sizing: border-box;top: 0;bottom: 0;left: 50%;z-index: -1;}#sk-container-id-1 div.sk-parallel-item {display: flex;flex-direction: column;z-index: 1;position: relative;background-color: white;}#sk-container-id-1 div.sk-parallel-item:first-child::after {align-self: flex-end;width: 50%;}#sk-container-id-1 div.sk-parallel-item:last-child::after {align-self: flex-start;width: 50%;}#sk-container-id-1 div.sk-parallel-item:only-child::after {width: 0;}#sk-container-id-1 div.sk-dashed-wrapped {border: 1px dashed gray;margin: 0 0.4em 0.5em 0.4em;box-sizing: border-box;padding-bottom: 0.4em;background-color: white;}#sk-container-id-1 div.sk-label label {font-family: monospace;font-weight: bold;display: inline-block;line-height: 1.2em;}#sk-container-id-1 div.sk-label-container {text-align: center;}#sk-container-id-1 div.sk-container {/* jupyter's `normalize.less` sets `[hidden] { display: none; }` but bootstrap.min.css set `[hidden] { display: none !important; }` so we also need the `!important` here to be able to override the default hidden behavior on the sphinx rendered scikit-learn.org. See: https://github.com/scikit-learn/scikit-learn/issues/21755 */display: inline-block !important;position: relative;}#sk-container-id-1 div.sk-text-repr-fallback {display: none;}</style><div id=\"sk-container-id-1\" class=\"sk-top-container\"><div class=\"sk-text-repr-fallback\"><pre>ElasticNet(alpha=0.01)</pre><b>In a Jupyter environment, please rerun this cell to show the HTML representation or trust the notebook. <br />On GitHub, the HTML representation is unable to render, please try loading this page with nbviewer.org.</b></div><div class=\"sk-container\" hidden><div class=\"sk-item\"><div class=\"sk-estimator sk-toggleable\"><input class=\"sk-toggleable__control sk-hidden--visually\" id=\"sk-estimator-id-1\" type=\"checkbox\" checked><label for=\"sk-estimator-id-1\" class=\"sk-toggleable__label sk-toggleable__label-arrow\">ElasticNet</label><div class=\"sk-toggleable__content\"><pre>ElasticNet(alpha=0.01)</pre></div></div></div></div></div>"
      ],
      "text/plain": [
       "ElasticNet(alpha=0.01)"
      ]
     },
     "execution_count": 30,
     "metadata": {},
     "output_type": "execute_result"
    }
   ],
   "source": [
    "# feature selection - Enet Coefs\n",
    "\n",
    "enet = ElasticNet(l1_ratio = 0.5, alpha = 0.01)\n",
    "\n",
    "enet.fit(xtrain_exp1, ytrain_exp1)"
   ]
  },
  {
   "cell_type": "code",
   "execution_count": 31,
   "id": "963a6aa5",
   "metadata": {},
   "outputs": [],
   "source": [
    "imp_columns1 = dict(zip(xtrain_exp1.columns, enet.coef_))"
   ]
  },
  {
   "cell_type": "code",
   "execution_count": 35,
   "id": "f2db9957",
   "metadata": {},
   "outputs": [
    {
     "data": {
      "text/plain": [
       "32"
      ]
     },
     "execution_count": 35,
     "metadata": {},
     "output_type": "execute_result"
    }
   ],
   "source": [
    "selected_columns_exp1 = [column for column, value in imp_columns1.items() if abs(value) > 0]\n",
    "\n",
    "len(selected_columns_exp1)"
   ]
  },
  {
   "cell_type": "code",
   "execution_count": 37,
   "id": "e40689be",
   "metadata": {},
   "outputs": [],
   "source": [
    "xtrain_exp1 = xtrain_exp1[selected_columns_exp1]\n",
    "\n",
    "xvalidation_exp1 = xvalidation_exp1[selected_columns_exp1]"
   ]
  },
  {
   "cell_type": "markdown",
   "id": "33583590",
   "metadata": {},
   "source": [
    "### Hyperparameter Tuning - Exp 1"
   ]
  },
  {
   "cell_type": "markdown",
   "id": "843e8955",
   "metadata": {},
   "source": [
    "#### Random Forest"
   ]
  },
  {
   "cell_type": "code",
   "execution_count": 56,
   "id": "cc8667f2",
   "metadata": {},
   "outputs": [],
   "source": [
    "# create the search space for an over fitting model\n",
    "\n",
    "search_space = {\n",
    "    'n_estimators': hp.quniform('n_estimators', 10, 500, 1),\n",
    "    'criterion': hp.choice('criterion', ['gini', 'entropy']),\n",
    "    'max_depth': hp.quniform('max_depth', 2, 30, 1),\n",
    "    'min_samples_split': hp.quniform('min_samples_split', 4, 30, 1),\n",
    "    'min_weight_fraction_leaf': hp.uniform('min_weight_fraction_leaf', 0.0, 0.5),\n",
    "    'max_leaf_nodes': hp.quniform('max_leaf_nodes',8,30,1),\n",
    "    'warm_start': hp.choice('warm_start', [True, False]),\n",
    "    'class_weight': hp.choice('class_weight', ['balanced', 'balanced_subsample']),\n",
    "    'ccp_alpha': hp.uniform('ccp_alpha', 0.0, 0.9)\n",
    "   \n",
    "}"
   ]
  },
  {
   "cell_type": "code",
   "execution_count": 57,
   "id": "9ef415bd",
   "metadata": {},
   "outputs": [],
   "source": [
    "def objective(params, n_folds, x, y):\n",
    "    \n",
    "    params['n_estimators'] = int(params['n_estimators'])\n",
    "    params['max_depth'] = int(params['max_depth'])\n",
    "    params['min_samples_split'] = int(params['min_samples_split'])\n",
    "    params['max_leaf_nodes'] = int(params['max_leaf_nodes'])\n",
    "    \n",
    "#     params['min_weight_fraction_leaf'] = round(params['min_weight_fraction_leaf'], 2)\n",
    "#     params['ccp_alpha'] = round(params['ccp_alpha'], 2)\n",
    "    \n",
    "    \n",
    "    model = RandomForestClassifier(**params, random_state = 0)\n",
    "    \n",
    "    scores = cross_val_score(model, x, y, cv = n_folds, scoring = 'roc_auc', error_score='raise')\n",
    "    \n",
    "    max_score = max(scores)\n",
    "    \n",
    "    # to minimize\n",
    "    loss = 1 - max_score\n",
    "    \n",
    "    return {'loss':loss,\n",
    "           'params':params,\n",
    "           'status': STATUS_OK}"
   ]
  },
  {
   "cell_type": "code",
   "execution_count": null,
   "id": "a94361a6",
   "metadata": {},
   "outputs": [
    {
     "name": "stdout",
     "output_type": "stream",
     "text": [
      "\r",
      "  0%|                                                                           | 0/16 [00:00<?, ?trial/s, best loss=?]"
     ]
    }
   ],
   "source": [
    "# optimize with the TPE algorithm\n",
    "trials = Trials()\n",
    "n_folds = 10\n",
    "\n",
    "best = fmin(fn = partial(objective, n_folds = n_folds,\n",
    "                         x = xtrain_exp1, y = ytrain_exp1),\n",
    "           space = search_space, algo = tpe.suggest, max_evals = 16, trials = trials,\n",
    "           )"
   ]
  },
  {
   "cell_type": "code",
   "execution_count": null,
   "id": "521c8094",
   "metadata": {},
   "outputs": [],
   "source": [
    "print(best)"
   ]
  },
  {
   "cell_type": "code",
   "execution_count": null,
   "id": "24c20da0",
   "metadata": {},
   "outputs": [],
   "source": []
  },
  {
   "cell_type": "code",
   "execution_count": null,
   "id": "771e8d74",
   "metadata": {},
   "outputs": [],
   "source": []
  },
  {
   "cell_type": "markdown",
   "id": "95ec2da0",
   "metadata": {},
   "source": [
    "#### LightGBM"
   ]
  },
  {
   "cell_type": "code",
   "execution_count": null,
   "id": "3eec4376",
   "metadata": {},
   "outputs": [],
   "source": []
  },
  {
   "cell_type": "code",
   "execution_count": null,
   "id": "afa4af0a",
   "metadata": {},
   "outputs": [],
   "source": [
    "search_space = {\n",
    "    'num_leaves': hp.quniform('num_leaves', 2,31,1),\n",
    "    'max_depth': hp.quniform('max_depth', 2,31,1),\n",
    "    'n_estimators': hp.quniform('n_estimators', 2,100,1),\n",
    "    'min_child_samples': hp.quniform('min_child_samples', 20,100,1),\n",
    "    'reg_alpha': hp.uniform('reg_alpha', 0.01, 0.9),\n",
    "    'reg_lambda': hp.uniform('reg_lambda', 0.01, 0.9),    \n",
    "}"
   ]
  },
  {
   "cell_type": "code",
   "execution_count": null,
   "id": "4e7798f3",
   "metadata": {},
   "outputs": [],
   "source": [
    "def objective(params, n_folds, x, y):\n",
    "    \n",
    "    params['n_estimators'] = int(params['n_estimators'])\n",
    "    params['max_depth'] = int(params['max_depth'])\n",
    "    params['min_samples_split'] = int(params['min_samples_split'])\n",
    "    params['max_leaf_nodes'] = int(params['max_leaf_nodes'])\n",
    "    \n",
    "    \n",
    "    \n",
    "    model = lgb.LGBMClassifier(**params, random_state = 0)\n",
    "    \n",
    "    scores = cross_val_score(model, x, y, cv = n_folds, scoring = 'roc_auc', error_score='raise')\n",
    "    \n",
    "    max_score = max(scores)\n",
    "    \n",
    "    # to minimize\n",
    "    loss = 1 - max_score\n",
    "    \n",
    "    return {'loss':loss,\n",
    "           'params':params,\n",
    "           'status': STATUS_OK}"
   ]
  },
  {
   "cell_type": "code",
   "execution_count": null,
   "id": "f96d4a43",
   "metadata": {},
   "outputs": [],
   "source": [
    "# optimize with the TPE algorithm\n",
    "trials = Trials()\n",
    "n_folds = 10\n",
    "\n",
    "best = fmin(fn = partial(objective, n_folds = n_folds,\n",
    "                         x = xtrain_exp1, y = ytrain_exp1),\n",
    "           space = search_space, algo = tpe.suggest, max_evals = 16, trials = trials,\n",
    "           )"
   ]
  },
  {
   "cell_type": "code",
   "execution_count": null,
   "id": "d1ee498d",
   "metadata": {},
   "outputs": [],
   "source": [
    "print(best)"
   ]
  },
  {
   "cell_type": "markdown",
   "id": "2200e3f9",
   "metadata": {},
   "source": [
    "## Preprocessor - Experiment 2\n",
    "\n",
    "1. Missing Values: Percentile Imputation\n",
    "2. Encoding: Ordinal\n",
    "3. Transformation: Sqrt\n",
    "4. Outliers: Winsorize(0.95-0.05)\n",
    "5. Scaling: RobustScaler\n",
    "6. Resampling: ADASYN\n",
    "7. Feature Selection: SelectFromModel"
   ]
  },
  {
   "cell_type": "code",
   "execution_count": null,
   "id": "058f5b1b",
   "metadata": {},
   "outputs": [],
   "source": [
    "categorical_exp2, numerical_exp2, xtrain_exp2, ytrain_exp2 = split_data_by_type(full_train_df, config['EDA']['target'])\n",
    "\n",
    "categorical_exp2, numerical_exp2, xvalidation_exp2, yvalidation_exp2 = split_data_by_type(validation_df, config['EDA']['target'])"
   ]
  },
  {
   "cell_type": "code",
   "execution_count": null,
   "id": "84a054b1",
   "metadata": {},
   "outputs": [],
   "source": [
    "num_pipeline_exp2 = Pipeline([\n",
    "    ('transformer', FunctionTransformer(np.sqrt)),\n",
    "    ('imputer', FunctionTransformer(percentile_imputer)),\n",
    "    ('winsorize', FunctionTransformer(winsorize)),\n",
    "    ('scaler', RobustScaler()),  \n",
    "])\n",
    "\n",
    "cat_pipeline_exp2 = Pipeline([\n",
    "    ('imputer', SimpleImputer(strategy = 'most_frequent')),\n",
    "    ('encoder', OrdinalEncoder()),\n",
    "    \n",
    "])"
   ]
  },
  {
   "cell_type": "code",
   "execution_count": null,
   "id": "b8c1e941",
   "metadata": {},
   "outputs": [],
   "source": [
    "pipeline_exp2 = create_pipeline(num_pipeline_exp2, numerical_exp2, cat_pipeline_exp2, categorical_exp2)"
   ]
  },
  {
   "cell_type": "code",
   "execution_count": null,
   "id": "8c79af18",
   "metadata": {},
   "outputs": [],
   "source": [
    "xtrain_exp2 = pipeline_exp2.fit_transform(xtrain_exp2)"
   ]
  },
  {
   "cell_type": "code",
   "execution_count": null,
   "id": "e34dba75",
   "metadata": {},
   "outputs": [],
   "source": [
    "xvalidation_exp2 = pipeline_exp2.transform(xvalidation_exp2)"
   ]
  },
  {
   "cell_type": "code",
   "execution_count": null,
   "id": "56515e41",
   "metadata": {},
   "outputs": [],
   "source": [
    "# adasyn\n",
    "\n",
    "adasyn = ADASYN()"
   ]
  },
  {
   "cell_type": "code",
   "execution_count": null,
   "id": "8c44e1e1",
   "metadata": {},
   "outputs": [],
   "source": [
    "xtrain_exp2, ytrain_exp2 = adasyn.fit_resample(xtrain_exp2, ytrain_exp2)"
   ]
  },
  {
   "cell_type": "code",
   "execution_count": null,
   "id": "afcef101",
   "metadata": {},
   "outputs": [],
   "source": [
    "rf = RandomForestClassifier()\n",
    "\n",
    "selector = SelectFromModel(rf, threshold=0.0001).fit(xtrain_exp2, ytrain_exp2)"
   ]
  },
  {
   "cell_type": "code",
   "execution_count": null,
   "id": "e5c0604a",
   "metadata": {},
   "outputs": [],
   "source": [
    "selected_columns_exp2 = xtrain_exp2.columns[selector.get_support()]\n",
    "\n",
    "len(selected_columns_exp2)"
   ]
  },
  {
   "cell_type": "code",
   "execution_count": null,
   "id": "d83cadcd",
   "metadata": {},
   "outputs": [],
   "source": [
    "xtrain_exp2 = xtrain_exp2[selected_columns_exp2]\n",
    "\n",
    "xvalidation_exp2 = xvalidation_exp2[selected_columns_exp2]"
   ]
  },
  {
   "cell_type": "markdown",
   "id": "6ccc4a50",
   "metadata": {},
   "source": [
    "### Hyperparameter Tuning - Exp 2"
   ]
  },
  {
   "cell_type": "markdown",
   "id": "455c7ab6",
   "metadata": {},
   "source": [
    "#### Random Forest"
   ]
  },
  {
   "cell_type": "code",
   "execution_count": null,
   "id": "1b2af848",
   "metadata": {},
   "outputs": [],
   "source": [
    "# create the search space for an over fitting model\n",
    "\n",
    "search_space = {\n",
    "    'n_estimators': hp.quniform('n_estimators', 10, 500, 1),\n",
    "    'criterion': hp.choice('criterion', ['gini', 'entropy']),\n",
    "    'max_depth': hp.quniform('max_depth', 2, 30, 1),\n",
    "    'min_samples_split': hp.quniform('min_samples_split', 4, 30, 1),\n",
    "    'min_weight_fraction_leaf': hp.uniform('min_weight_fraction_leaf', 0.0, 0.5),\n",
    "    'max_leaf_nodes': hp.quniform('max_leaf_nodes',8,30,1),\n",
    "    'warm_start': hp.choice('warm_start', [True, False]),\n",
    "    'class_weight': hp.choice('class_weight', ['balanced', 'balanced_subsample']),\n",
    "    'ccp_alpha': hp.uniform('ccp_alpha', 0.0, 0.9)\n",
    "   \n",
    "}"
   ]
  },
  {
   "cell_type": "code",
   "execution_count": null,
   "id": "daf40057",
   "metadata": {},
   "outputs": [],
   "source": [
    "def objective(params, n_folds, x, y):\n",
    "    \n",
    "    params['n_estimators'] = int(params['n_estimators'])\n",
    "    params['max_depth'] = int(params['max_depth'])\n",
    "    params['min_samples_split'] = int(params['min_samples_split'])\n",
    "    params['max_leaf_nodes'] = int(params['max_leaf_nodes'])\n",
    "    \n",
    "#     params['min_weight_fraction_leaf'] = round(params['min_weight_fraction_leaf'], 2)\n",
    "#     params['ccp_alpha'] = round(params['ccp_alpha'], 2)\n",
    "    \n",
    "    \n",
    "    model = RandomForestClassifier(**params, random_state = 0)\n",
    "    \n",
    "    scores = cross_val_score(model, x, y, cv = n_folds, scoring = 'roc_auc', error_score='raise')\n",
    "    \n",
    "    max_score = max(scores)\n",
    "    \n",
    "    # to minimize\n",
    "    loss = 1 - max_score\n",
    "    \n",
    "    return {'loss':loss,\n",
    "           'params':params,\n",
    "           'status': STATUS_OK}"
   ]
  },
  {
   "cell_type": "code",
   "execution_count": null,
   "id": "ed145523",
   "metadata": {},
   "outputs": [],
   "source": [
    "# optimize with the TPE algorithm\n",
    "trials = Trials()\n",
    "n_folds = 10\n",
    "\n",
    "best = fmin(fn = partial(objective, n_folds = n_folds,\n",
    "                         x = xtrain_exp1, y = ytrain_exp1),\n",
    "           space = search_space, algo = tpe.suggest, max_evals = 16, trials = trials,\n",
    "           )"
   ]
  },
  {
   "cell_type": "code",
   "execution_count": null,
   "id": "d762326a",
   "metadata": {},
   "outputs": [],
   "source": []
  },
  {
   "cell_type": "code",
   "execution_count": null,
   "id": "4972de88",
   "metadata": {},
   "outputs": [],
   "source": []
  },
  {
   "cell_type": "code",
   "execution_count": null,
   "id": "986a108f",
   "metadata": {},
   "outputs": [],
   "source": []
  },
  {
   "cell_type": "code",
   "execution_count": null,
   "id": "a91e2ef0",
   "metadata": {},
   "outputs": [],
   "source": []
  },
  {
   "cell_type": "code",
   "execution_count": null,
   "id": "ad50626b",
   "metadata": {},
   "outputs": [],
   "source": []
  },
  {
   "cell_type": "code",
   "execution_count": null,
   "id": "8e7d289d",
   "metadata": {},
   "outputs": [],
   "source": []
  },
  {
   "cell_type": "code",
   "execution_count": null,
   "id": "93510c0e",
   "metadata": {},
   "outputs": [],
   "source": []
  },
  {
   "cell_type": "code",
   "execution_count": null,
   "id": "c88884b3",
   "metadata": {},
   "outputs": [],
   "source": []
  },
  {
   "cell_type": "code",
   "execution_count": null,
   "id": "02d0701d",
   "metadata": {},
   "outputs": [],
   "source": []
  },
  {
   "cell_type": "code",
   "execution_count": null,
   "id": "7cfeb55a",
   "metadata": {},
   "outputs": [],
   "source": []
  },
  {
   "cell_type": "code",
   "execution_count": null,
   "id": "46db8dea",
   "metadata": {},
   "outputs": [],
   "source": []
  },
  {
   "cell_type": "code",
   "execution_count": null,
   "id": "f0255884",
   "metadata": {},
   "outputs": [],
   "source": []
  },
  {
   "cell_type": "code",
   "execution_count": null,
   "id": "a8aa62e4",
   "metadata": {},
   "outputs": [],
   "source": []
  },
  {
   "cell_type": "code",
   "execution_count": null,
   "id": "6d4d5187",
   "metadata": {},
   "outputs": [],
   "source": []
  },
  {
   "cell_type": "code",
   "execution_count": null,
   "id": "7203c15f",
   "metadata": {},
   "outputs": [],
   "source": []
  },
  {
   "cell_type": "code",
   "execution_count": null,
   "id": "93c2ed94",
   "metadata": {},
   "outputs": [],
   "source": []
  },
  {
   "cell_type": "code",
   "execution_count": null,
   "id": "9e2632ee",
   "metadata": {},
   "outputs": [],
   "source": []
  },
  {
   "cell_type": "code",
   "execution_count": null,
   "id": "65e5158f",
   "metadata": {},
   "outputs": [],
   "source": []
  },
  {
   "cell_type": "code",
   "execution_count": null,
   "id": "a0667335",
   "metadata": {},
   "outputs": [],
   "source": []
  },
  {
   "cell_type": "code",
   "execution_count": null,
   "id": "aa1245ba",
   "metadata": {},
   "outputs": [],
   "source": []
  },
  {
   "cell_type": "code",
   "execution_count": null,
   "id": "869b14ae",
   "metadata": {},
   "outputs": [],
   "source": []
  },
  {
   "cell_type": "code",
   "execution_count": null,
   "id": "b1e257d4",
   "metadata": {},
   "outputs": [],
   "source": []
  },
  {
   "cell_type": "code",
   "execution_count": null,
   "id": "4c25e705",
   "metadata": {},
   "outputs": [],
   "source": []
  },
  {
   "cell_type": "code",
   "execution_count": null,
   "id": "7c26ff25",
   "metadata": {},
   "outputs": [],
   "source": []
  }
 ],
 "metadata": {
  "kernelspec": {
   "display_name": "Python 3 (ipykernel)",
   "language": "python",
   "name": "python3"
  },
  "language_info": {
   "codemirror_mode": {
    "name": "ipython",
    "version": 3
   },
   "file_extension": ".py",
   "mimetype": "text/x-python",
   "name": "python",
   "nbconvert_exporter": "python",
   "pygments_lexer": "ipython3",
   "version": "3.10.9"
  }
 },
 "nbformat": 4,
 "nbformat_minor": 5
}
