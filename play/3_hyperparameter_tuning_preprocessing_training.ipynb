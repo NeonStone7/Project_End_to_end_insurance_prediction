{
 "cells": [
  {
   "cell_type": "code",
   "execution_count": 239,
   "id": "f361b9f9",
   "metadata": {},
   "outputs": [],
   "source": [
    "# miscellaneous\n",
    "import matplotlib.pyplot as plt\n",
    "\n",
    "from glob import glob #library that helps us search for files\n",
    "import scipy\n",
    "import random\n",
    "from datetime import datetime\n",
    "import numpy as np\n",
    "import pandas as pd\n",
    "import seaborn as sns\n",
    "import plotly.express as px\n",
    "from scipy.special import inv_boxcox\n",
    "from skopt import BayesSearchCV\n",
    "from skopt.space import Real, Integer, Categorical\n",
    "\n",
    "# hyperparameter tuning\n",
    "from hyperopt import hp\n",
    "from hyperopt import tpe, hp, fmin, STATUS_OK,Trials, partial\n",
    "\n",
    "# preprocessing\n",
    "from category_encoders import OneHotEncoder,TargetEncoder,OrdinalEncoder\n",
    "from sklearn.preprocessing import StandardScaler, MinMaxScaler, FunctionTransformer, PowerTransformer,LabelEncoder, MaxAbsScaler, RobustScaler\n",
    "from sklearn.preprocessing import LabelEncoder\n",
    "from sklearn.preprocessing import PolynomialFeatures\n",
    "from sklearn.experimental import enable_iterative_imputer\n",
    "from sklearn.impute import SimpleImputer, IterativeImputer\n",
    "from sklearn.model_selection import train_test_split,GridSearchCV,RandomizedSearchCV, StratifiedShuffleSplit\n",
    "from sklearn.model_selection import cross_val_score,cross_val_predict, KFold, StratifiedKFold\n",
    "from sklearn.compose import ColumnTransformer\n",
    "from sklearn.preprocessing import StandardScaler, MinMaxScaler, FunctionTransformer, PowerTransformer,LabelEncoder, MaxAbsScaler, RobustScaler\n",
    "\n",
    "# models\n",
    "from sklearn.tree import DecisionTreeClassifier\n",
    "from sklearn.linear_model import LogisticRegression,BayesianRidge, ElasticNet, Lasso\n",
    "from sklearn.dummy import DummyClassifier\n",
    "import xgboost as xgb\n",
    "from sklearn.svm import SVC\n",
    "from sklearn.discriminant_analysis import LinearDiscriminantAnalysis\n",
    "from sklearn.ensemble import RandomForestClassifier, AdaBoostClassifier, ExtraTreesClassifier, GradientBoostingClassifier\n",
    "from sklearn.ensemble import BaggingClassifier, VotingClassifier, RandomForestRegressor\n",
    "from sklearn.neighbors import KNeighborsClassifier\n",
    "from sklearn.base import clone\n",
    "import lightgbm as lgb\n",
    "\n",
    "# metrics\n",
    "from sklearn.metrics import accuracy_score, precision_score, recall_score, f1_score, roc_curve, roc_auc_score\n",
    "from sklearn.metrics import log_loss, confusion_matrix, classification_report, precision_recall_curve\n",
    "from sklearn.metrics import ConfusionMatrixDisplay, RocCurveDisplay, PrecisionRecallDisplay\n",
    "from sklearn.pipeline import make_pipeline, Pipeline\n",
    "from sklearn.utils.validation import check_is_fitted\n",
    "\n",
    "# feature selection / data sampling\n",
    "from sklearn.feature_selection import RFE, SelectKBest, f_classif, SelectFromModel, VarianceThreshold\n",
    "from imblearn.over_sampling import SMOTE, ADASYN\n",
    "from sklearn.neighbors import KNeighborsClassifier\n",
    "from imblearn.over_sampling import RandomOverSampler\n",
    "from imblearn.under_sampling import RandomUnderSampler\n",
    "from sklearn.inspection import permutation_importance\n",
    "\n",
    "# saving model\n",
    "import pickle,joblib\n",
    "import boto3\n",
    "\n",
    "# data settings\n",
    "pd.pandas.set_option('display.max_rows',None)\n",
    "pd.pandas.set_option('display.max_columns',None)\n",
    "pd.set_option('display.max_colwidth', None)\n",
    "\n",
    "\n",
    "from sklearn import set_config\n",
    "set_config(transform_output = 'pandas')\n",
    "\n",
    "import warnings\n",
    "warnings.simplefilter(action=\"ignore\")\n",
    "\n",
    "\n",
    "import json\n",
    "\n",
    "# custom package\n",
    "import importlib\n",
    "import package\n",
    "importlib.reload(package)\n",
    "\n",
    "from package.data_retrieval.data_retrieval import s3_retrieval, write_to_s3\n",
    "from package.eda.data_exploration import correlation\n",
    "from package.training.model_training import model_evaluation, split_data_by_type, performance_plots\n",
    "from package.preprocessing.data_preprocessing import create_pipeline, winsorize, percentile_imputer, random_sample_imputer, count_encoder "
   ]
  },
  {
   "cell_type": "markdown",
   "id": "a985cb85",
   "metadata": {},
   "source": [
    "# Read Config"
   ]
  },
  {
   "cell_type": "code",
   "execution_count": 3,
   "id": "ffbc4277",
   "metadata": {},
   "outputs": [],
   "source": [
    "config_path = \"C:/Users/Oamen/OneDrive/Documents/DATA PROJECTS/Insurance_claim_prediction_porto/config.json\""
   ]
  },
  {
   "cell_type": "code",
   "execution_count": 13,
   "id": "ba9c263b",
   "metadata": {},
   "outputs": [],
   "source": [
    "# Opening JSON file\n",
    "with open(config_path) as file:\n",
    "    \n",
    "    config = json.load(file)"
   ]
  },
  {
   "cell_type": "markdown",
   "id": "2eb46e5b",
   "metadata": {},
   "source": [
    "# Read Data"
   ]
  },
  {
   "cell_type": "code",
   "execution_count": 15,
   "id": "fe8c3ab7",
   "metadata": {},
   "outputs": [],
   "source": [
    "# get access key\n",
    "secret = pd.read_csv(\"C:/Users/Oamen/Downloads/jupyter_iam_accessKeys.csv\")"
   ]
  },
  {
   "cell_type": "code",
   "execution_count": 16,
   "id": "c4e18352",
   "metadata": {},
   "outputs": [],
   "source": [
    "# create S3 client object \n",
    "s3_client = boto3.client('s3',aws_access_key_id=secret['Access key ID'][0],aws_secret_access_key=secret['Secret access key'][0])"
   ]
  },
  {
   "cell_type": "code",
   "execution_count": 17,
   "id": "eac7a00f",
   "metadata": {},
   "outputs": [],
   "source": [
    "bucket_name = config['EDA']['bucket_name'] "
   ]
  },
  {
   "cell_type": "code",
   "execution_count": 18,
   "id": "f980f3f9",
   "metadata": {},
   "outputs": [
    {
     "name": "stdout",
     "output_type": "stream",
     "text": [
      "Retrieved object\n",
      "Read bytes\n",
      "Success!\n"
     ]
    }
   ],
   "source": [
    "# retrieve data\n",
    "full_train_df = s3_retrieval(s3_client, bucket_name, config['Model_Selection']['Input_data']['full_train'])"
   ]
  },
  {
   "cell_type": "code",
   "execution_count": 19,
   "id": "820d6c1d",
   "metadata": {},
   "outputs": [],
   "source": [
    "#reduced_train_df = s3_retrieval(s3_client, bucket_name, reduced_train_new_key)"
   ]
  },
  {
   "cell_type": "code",
   "execution_count": 20,
   "id": "3cbfb391",
   "metadata": {},
   "outputs": [
    {
     "name": "stdout",
     "output_type": "stream",
     "text": [
      "Retrieved object\n",
      "Read bytes\n",
      "Success!\n"
     ]
    }
   ],
   "source": [
    "validation_df = s3_retrieval(s3_client, bucket_name, config['Model_Selection']['Input_data']['validation'])"
   ]
  },
  {
   "cell_type": "code",
   "execution_count": 21,
   "id": "47b6cb3b",
   "metadata": {},
   "outputs": [
    {
     "name": "stdout",
     "output_type": "stream",
     "text": [
      "Retrieved object\n",
      "Read bytes\n",
      "Success!\n"
     ]
    }
   ],
   "source": [
    "test_df = s3_retrieval(s3_client, bucket_name, config['Model_Selection']['Input_data']['test'])"
   ]
  },
  {
   "cell_type": "markdown",
   "id": "ebb55193",
   "metadata": {},
   "source": [
    "# Training Preprocessor"
   ]
  },
  {
   "cell_type": "markdown",
   "id": "3f523e8f",
   "metadata": {},
   "source": [
    "## Preprocessor - Experiment 1\n",
    "\n",
    "1. Missing Values: Simple\n",
    "2. Encoding: One-Hot\n",
    "3. Transformation: Log\n",
    "4. Outliers: Winsorize(0.95-0.05)\n",
    "5. Scaling: StandardScaler\n",
    "6. Resampling: SMOTE\n",
    "7. Feature Selection: Enet Coefs"
   ]
  },
  {
   "cell_type": "code",
   "execution_count": 81,
   "id": "4b32260e",
   "metadata": {},
   "outputs": [],
   "source": [
    "categorical_exp1, numerical_exp1, xtrain_exp1, ytrain_exp1 = split_data_by_type(full_train_df, config['EDA']['target'])"
   ]
  },
  {
   "cell_type": "code",
   "execution_count": 82,
   "id": "fbbfd2d4",
   "metadata": {},
   "outputs": [],
   "source": [
    "categorical_exp1, numerical_exp1, xvalidation_exp1, yvalidation_exp1 = split_data_by_type(validation_df, config['EDA']['target'])"
   ]
  },
  {
   "cell_type": "code",
   "execution_count": 83,
   "id": "8d8b4d24",
   "metadata": {},
   "outputs": [],
   "source": [
    "num_pipeline_exp1 = Pipeline([\n",
    "    ('transformer', FunctionTransformer(np.log1p)),\n",
    "    ('imputer', SimpleImputer(strategy = 'median')),\n",
    "    ('winsorize', FunctionTransformer(winsorize)),\n",
    "    ('scaler', StandardScaler()),  \n",
    "])\n",
    "\n",
    "cat_pipeline_exp1 = Pipeline([\n",
    "    ('imputer', SimpleImputer(strategy = 'most_frequent')),\n",
    "    ('encoder', OneHotEncoder()),\n",
    "    \n",
    "])"
   ]
  },
  {
   "cell_type": "code",
   "execution_count": 84,
   "id": "e0a25832",
   "metadata": {},
   "outputs": [],
   "source": [
    "pipeline_exp1 = create_pipeline(num_pipeline_exp1, numerical_exp1, cat_pipeline_exp1, categorical_exp1)"
   ]
  },
  {
   "cell_type": "code",
   "execution_count": 85,
   "id": "effcd067",
   "metadata": {},
   "outputs": [],
   "source": [
    "xtrain_exp1 = pipeline_exp1.fit_transform(xtrain_exp1)"
   ]
  },
  {
   "cell_type": "code",
   "execution_count": 86,
   "id": "25ead879",
   "metadata": {},
   "outputs": [],
   "source": [
    "xvalidation_exp1 = pipeline_exp1.transform(xvalidation_exp1)"
   ]
  },
  {
   "cell_type": "code",
   "execution_count": 87,
   "id": "ddf07e9a",
   "metadata": {},
   "outputs": [],
   "source": [
    "# smote\n",
    "\n",
    "smote = SMOTE()"
   ]
  },
  {
   "cell_type": "code",
   "execution_count": 88,
   "id": "b57bab76",
   "metadata": {},
   "outputs": [],
   "source": [
    "xtrain_exp1, ytrain_exp1 = smote.fit_resample(xtrain_exp1, ytrain_exp1)"
   ]
  },
  {
   "cell_type": "code",
   "execution_count": 89,
   "id": "d4914b6c",
   "metadata": {},
   "outputs": [
    {
     "data": {
      "text/html": [
       "<style>#sk-container-id-2 {color: black;background-color: white;}#sk-container-id-2 pre{padding: 0;}#sk-container-id-2 div.sk-toggleable {background-color: white;}#sk-container-id-2 label.sk-toggleable__label {cursor: pointer;display: block;width: 100%;margin-bottom: 0;padding: 0.3em;box-sizing: border-box;text-align: center;}#sk-container-id-2 label.sk-toggleable__label-arrow:before {content: \"▸\";float: left;margin-right: 0.25em;color: #696969;}#sk-container-id-2 label.sk-toggleable__label-arrow:hover:before {color: black;}#sk-container-id-2 div.sk-estimator:hover label.sk-toggleable__label-arrow:before {color: black;}#sk-container-id-2 div.sk-toggleable__content {max-height: 0;max-width: 0;overflow: hidden;text-align: left;background-color: #f0f8ff;}#sk-container-id-2 div.sk-toggleable__content pre {margin: 0.2em;color: black;border-radius: 0.25em;background-color: #f0f8ff;}#sk-container-id-2 input.sk-toggleable__control:checked~div.sk-toggleable__content {max-height: 200px;max-width: 100%;overflow: auto;}#sk-container-id-2 input.sk-toggleable__control:checked~label.sk-toggleable__label-arrow:before {content: \"▾\";}#sk-container-id-2 div.sk-estimator input.sk-toggleable__control:checked~label.sk-toggleable__label {background-color: #d4ebff;}#sk-container-id-2 div.sk-label input.sk-toggleable__control:checked~label.sk-toggleable__label {background-color: #d4ebff;}#sk-container-id-2 input.sk-hidden--visually {border: 0;clip: rect(1px 1px 1px 1px);clip: rect(1px, 1px, 1px, 1px);height: 1px;margin: -1px;overflow: hidden;padding: 0;position: absolute;width: 1px;}#sk-container-id-2 div.sk-estimator {font-family: monospace;background-color: #f0f8ff;border: 1px dotted black;border-radius: 0.25em;box-sizing: border-box;margin-bottom: 0.5em;}#sk-container-id-2 div.sk-estimator:hover {background-color: #d4ebff;}#sk-container-id-2 div.sk-parallel-item::after {content: \"\";width: 100%;border-bottom: 1px solid gray;flex-grow: 1;}#sk-container-id-2 div.sk-label:hover label.sk-toggleable__label {background-color: #d4ebff;}#sk-container-id-2 div.sk-serial::before {content: \"\";position: absolute;border-left: 1px solid gray;box-sizing: border-box;top: 0;bottom: 0;left: 50%;z-index: 0;}#sk-container-id-2 div.sk-serial {display: flex;flex-direction: column;align-items: center;background-color: white;padding-right: 0.2em;padding-left: 0.2em;position: relative;}#sk-container-id-2 div.sk-item {position: relative;z-index: 1;}#sk-container-id-2 div.sk-parallel {display: flex;align-items: stretch;justify-content: center;background-color: white;position: relative;}#sk-container-id-2 div.sk-item::before, #sk-container-id-2 div.sk-parallel-item::before {content: \"\";position: absolute;border-left: 1px solid gray;box-sizing: border-box;top: 0;bottom: 0;left: 50%;z-index: -1;}#sk-container-id-2 div.sk-parallel-item {display: flex;flex-direction: column;z-index: 1;position: relative;background-color: white;}#sk-container-id-2 div.sk-parallel-item:first-child::after {align-self: flex-end;width: 50%;}#sk-container-id-2 div.sk-parallel-item:last-child::after {align-self: flex-start;width: 50%;}#sk-container-id-2 div.sk-parallel-item:only-child::after {width: 0;}#sk-container-id-2 div.sk-dashed-wrapped {border: 1px dashed gray;margin: 0 0.4em 0.5em 0.4em;box-sizing: border-box;padding-bottom: 0.4em;background-color: white;}#sk-container-id-2 div.sk-label label {font-family: monospace;font-weight: bold;display: inline-block;line-height: 1.2em;}#sk-container-id-2 div.sk-label-container {text-align: center;}#sk-container-id-2 div.sk-container {/* jupyter's `normalize.less` sets `[hidden] { display: none; }` but bootstrap.min.css set `[hidden] { display: none !important; }` so we also need the `!important` here to be able to override the default hidden behavior on the sphinx rendered scikit-learn.org. See: https://github.com/scikit-learn/scikit-learn/issues/21755 */display: inline-block !important;position: relative;}#sk-container-id-2 div.sk-text-repr-fallback {display: none;}</style><div id=\"sk-container-id-2\" class=\"sk-top-container\"><div class=\"sk-text-repr-fallback\"><pre>ElasticNet(alpha=0.01)</pre><b>In a Jupyter environment, please rerun this cell to show the HTML representation or trust the notebook. <br />On GitHub, the HTML representation is unable to render, please try loading this page with nbviewer.org.</b></div><div class=\"sk-container\" hidden><div class=\"sk-item\"><div class=\"sk-estimator sk-toggleable\"><input class=\"sk-toggleable__control sk-hidden--visually\" id=\"sk-estimator-id-2\" type=\"checkbox\" checked><label for=\"sk-estimator-id-2\" class=\"sk-toggleable__label sk-toggleable__label-arrow\">ElasticNet</label><div class=\"sk-toggleable__content\"><pre>ElasticNet(alpha=0.01)</pre></div></div></div></div></div>"
      ],
      "text/plain": [
       "ElasticNet(alpha=0.01)"
      ]
     },
     "execution_count": 89,
     "metadata": {},
     "output_type": "execute_result"
    }
   ],
   "source": [
    "# feature selection - Enet Coefs\n",
    "\n",
    "enet = ElasticNet(l1_ratio = 0.5, alpha = 0.01)\n",
    "\n",
    "enet.fit(xtrain_exp1, ytrain_exp1)"
   ]
  },
  {
   "cell_type": "code",
   "execution_count": 90,
   "id": "0bd100e0",
   "metadata": {},
   "outputs": [],
   "source": [
    "imp_columns1 = dict(zip(xtrain_exp1.columns, enet.coef_))"
   ]
  },
  {
   "cell_type": "code",
   "execution_count": 91,
   "id": "ff41be6d",
   "metadata": {},
   "outputs": [
    {
     "data": {
      "text/plain": [
       "31"
      ]
     },
     "execution_count": 91,
     "metadata": {},
     "output_type": "execute_result"
    }
   ],
   "source": [
    "selected_columns_exp1 = [column for column, value in imp_columns1.items() if abs(value) > 0]\n",
    "\n",
    "len(selected_columns_exp1)"
   ]
  },
  {
   "cell_type": "code",
   "execution_count": 92,
   "id": "ac0a7516",
   "metadata": {},
   "outputs": [],
   "source": [
    "xtrain_exp1 = xtrain_exp1[selected_columns_exp1]\n",
    "\n",
    "xvalidation_exp1 = xvalidation_exp1[selected_columns_exp1]"
   ]
  },
  {
   "cell_type": "markdown",
   "id": "96c5b4fa",
   "metadata": {},
   "source": [
    "### Hyperparameter Tuning - Exp 1"
   ]
  },
  {
   "cell_type": "markdown",
   "id": "da42e8d9",
   "metadata": {},
   "source": [
    "#### Random Forest"
   ]
  },
  {
   "cell_type": "code",
   "execution_count": 117,
   "id": "a01b438c",
   "metadata": {},
   "outputs": [],
   "source": [
    "# create the search space for an over fitting model\n",
    "\n",
    "search_space = {\n",
    "    'n_estimators': hp.quniform('n_estimators', 100, 500, 1),\n",
    "    'criterion': hp.choice('criterion', ['gini', 'entropy']),\n",
    "    'max_depth': hp.quniform('max_depth', 2, 30, 1),\n",
    "    'min_samples_split': hp.quniform('min_samples_split', 4, 30, 1),\n",
    "    'min_weight_fraction_leaf': hp.uniform('min_weight_fraction_leaf', 0.0, 0.5),\n",
    "    'max_leaf_nodes': hp.quniform('max_leaf_nodes',8,30,1),\n",
    "    'warm_start': hp.choice('warm_start', [True, False]),\n",
    "    'class_weight': hp.choice('class_weight', ['balanced', 'balanced_subsample']),\n",
    "    'ccp_alpha': hp.uniform('ccp_alpha', 0.0, 0.9)\n",
    "   \n",
    "}"
   ]
  },
  {
   "cell_type": "code",
   "execution_count": 118,
   "id": "59226296",
   "metadata": {},
   "outputs": [],
   "source": [
    "def objective(params, n_folds, x, y):\n",
    "    \n",
    "    params['n_estimators'] = int(params['n_estimators'])\n",
    "    params['max_depth'] = int(params['max_depth'])\n",
    "    params['min_samples_split'] = int(params['min_samples_split'])\n",
    "    params['max_leaf_nodes'] = int(params['max_leaf_nodes'])\n",
    "    \n",
    "\n",
    "    model = RandomForestClassifier(**params, random_state = 0)\n",
    "    \n",
    "    scores = cross_val_score(model, x, y, cv = n_folds, scoring = 'f1', error_score='raise')\n",
    "    \n",
    "    max_score = max(scores)\n",
    "    \n",
    "    # to minimize\n",
    "    loss = 1 - max_score\n",
    "    \n",
    "    return {'loss':loss,\n",
    "           'params':params,\n",
    "           'status': STATUS_OK}"
   ]
  },
  {
   "cell_type": "code",
   "execution_count": 119,
   "id": "8f5c0283",
   "metadata": {},
   "outputs": [
    {
     "name": "stdout",
     "output_type": "stream",
     "text": [
      "100%|█████████████████████████████████████████████| 8/8 [2:51:41<00:00, 1287.64s/trial, best loss: 0.33333150993660055]\n"
     ]
    }
   ],
   "source": [
    "# optimize with the TPE algorithm\n",
    "trials_0 = Trials()\n",
    "n_folds = 4\n",
    "\n",
    "best = fmin(fn = partial(objective, n_folds = n_folds,\n",
    "                         x = xtrain_exp1, y = ytrain_exp1),\n",
    "           space = search_space, algo = tpe.suggest, max_evals = 8, trials = trials_0,\n",
    "           )"
   ]
  },
  {
   "cell_type": "code",
   "execution_count": 120,
   "id": "4be31ffa",
   "metadata": {},
   "outputs": [
    {
     "name": "stdout",
     "output_type": "stream",
     "text": [
      "{'ccp_alpha': 0.8355154331803291, 'class_weight': 0, 'criterion': 1, 'max_depth': 25.0, 'max_leaf_nodes': 10.0, 'min_samples_split': 16.0, 'min_weight_fraction_leaf': 0.03164012540078487, 'n_estimators': 251.0, 'warm_start': 0}\n"
     ]
    }
   ],
   "source": [
    "print(best)"
   ]
  },
  {
   "cell_type": "code",
   "execution_count": 121,
   "id": "5f284b29",
   "metadata": {},
   "outputs": [
    {
     "name": "stdout",
     "output_type": "stream",
     "text": [
      "0.33333150993660055\n"
     ]
    }
   ],
   "source": [
    "print(trials_0.best_trial['result']['loss'])"
   ]
  },
  {
   "cell_type": "markdown",
   "id": "a2db2eab",
   "metadata": {},
   "source": [
    "#### LightGBM"
   ]
  },
  {
   "cell_type": "code",
   "execution_count": 122,
   "id": "dca7ef47",
   "metadata": {},
   "outputs": [],
   "source": [
    "search_space = {\n",
    "    'num_leaves': hp.quniform('num_leaves', 2,31,1),\n",
    "    'max_depth': hp.quniform('max_depth', 2,31,1),\n",
    "    'n_estimators': hp.quniform('n_estimators', 2,100,1),\n",
    "    'min_child_samples': hp.quniform('min_child_samples', 20,100,1),\n",
    "    'reg_alpha': hp.uniform('reg_alpha', 0.01, 0.9),\n",
    "    'reg_lambda': hp.uniform('reg_lambda', 0.01, 0.9),    \n",
    "}"
   ]
  },
  {
   "cell_type": "code",
   "execution_count": 123,
   "id": "70ca2a6c",
   "metadata": {},
   "outputs": [],
   "source": [
    "def objective(params, n_folds, x, y):\n",
    "    \n",
    "    params['num_leaves'] = int(params['num_leaves'])\n",
    "    params['max_depth'] = int(params['max_depth'])\n",
    "    params['n_estimators'] = int(params['n_estimators'])\n",
    "    params['min_child_samples'] = int(params['min_child_samples'])\n",
    "    \n",
    "    \n",
    "    \n",
    "    model = lgb.LGBMClassifier(**params, random_state = 0)\n",
    "    \n",
    "    scores = cross_val_score(model, x, y, cv = n_folds, scoring = 'f1', error_score='raise')\n",
    "    \n",
    "    max_score = max(scores)\n",
    "    \n",
    "    # to minimize\n",
    "    loss = 1 - max_score\n",
    "    \n",
    "    return {'loss':loss,\n",
    "           'params':params,\n",
    "           'status': STATUS_OK}"
   ]
  },
  {
   "cell_type": "code",
   "execution_count": 124,
   "id": "cade8ae6",
   "metadata": {
    "scrolled": true
   },
   "outputs": [
    {
     "name": "stdout",
     "output_type": "stream",
     "text": [
      "[LightGBM] [Info] Number of positive: 365618, number of negative: 365617                                               \n",
      "[LightGBM] [Info] Auto-choosing col-wise multi-threading, the overhead of testing was 0.151327 seconds.                \n",
      "You can set `force_col_wise=true` to remove the overhead.\n",
      "[LightGBM] [Info] Total Bins 7678                                                                                      \n",
      "[LightGBM] [Info] Number of data points in the train set: 731235, number of used features: 31                          \n",
      "[LightGBM] [Info] [binary:BoostFromScore]: pavg=0.500001 -> initscore=0.000003                                         \n",
      "[LightGBM] [Info] Start training from score 0.000003                                                                   \n",
      "[LightGBM] [Info] Number of positive: 365618, number of negative: 365617                                               \n",
      "[LightGBM] [Info] Auto-choosing col-wise multi-threading, the overhead of testing was 0.171815 seconds.                \n",
      "You can set `force_col_wise=true` to remove the overhead.\n",
      "[LightGBM] [Info] Total Bins 7679                                                                                      \n",
      "[LightGBM] [Info] Number of data points in the train set: 731235, number of used features: 31                          \n",
      "[LightGBM] [Info] [binary:BoostFromScore]: pavg=0.500001 -> initscore=0.000003                                         \n",
      "[LightGBM] [Info] Start training from score 0.000003                                                                   \n",
      "[LightGBM] [Info] Number of positive: 365617, number of negative: 365618                                               \n",
      "[LightGBM] [Info] Auto-choosing col-wise multi-threading, the overhead of testing was 0.161144 seconds.                \n",
      "You can set `force_col_wise=true` to remove the overhead.\n",
      "[LightGBM] [Info] Total Bins 7679                                                                                      \n",
      "[LightGBM] [Info] Number of data points in the train set: 731235, number of used features: 31                          \n",
      "[LightGBM] [Info] [binary:BoostFromScore]: pavg=0.499999 -> initscore=-0.000003                                        \n",
      "[LightGBM] [Info] Start training from score -0.000003                                                                  \n",
      "[LightGBM] [Info] Number of positive: 365617, number of negative: 365618                                               \n",
      "[LightGBM] [Info] Auto-choosing col-wise multi-threading, the overhead of testing was 0.181896 seconds.                \n",
      "You can set `force_col_wise=true` to remove the overhead.\n",
      "[LightGBM] [Info] Total Bins 7678                                                                                      \n",
      "[LightGBM] [Info] Number of data points in the train set: 731235, number of used features: 31                          \n",
      "[LightGBM] [Info] [binary:BoostFromScore]: pavg=0.499999 -> initscore=-0.000003                                        \n",
      "[LightGBM] [Info] Start training from score -0.000003                                                                  \n",
      "[LightGBM] [Info] Number of positive: 365618, number of negative: 365617                                               \n",
      "[LightGBM] [Info] Auto-choosing col-wise multi-threading, the overhead of testing was 0.163924 seconds.                \n",
      "You can set `force_col_wise=true` to remove the overhead.\n",
      "[LightGBM] [Info] Total Bins 7678                                                                                      \n",
      "[LightGBM] [Info] Number of data points in the train set: 731235, number of used features: 31                          \n",
      "[LightGBM] [Info] [binary:BoostFromScore]: pavg=0.500001 -> initscore=0.000003                                         \n",
      "[LightGBM] [Info] Start training from score 0.000003                                                                   \n",
      "[LightGBM] [Info] Number of positive: 365618, number of negative: 365617                                               \n",
      "[LightGBM] [Info] Auto-choosing col-wise multi-threading, the overhead of testing was 0.168268 seconds.                \n",
      "You can set `force_col_wise=true` to remove the overhead.\n",
      "[LightGBM] [Info] Total Bins 7679                                                                                      \n",
      "[LightGBM] [Info] Number of data points in the train set: 731235, number of used features: 31                          \n",
      "[LightGBM] [Info] [binary:BoostFromScore]: pavg=0.500001 -> initscore=0.000003                                         \n",
      "[LightGBM] [Info] Start training from score 0.000003                                                                   \n",
      "[LightGBM] [Info] Number of positive: 365617, number of negative: 365618                                               \n",
      "[LightGBM] [Info] Auto-choosing col-wise multi-threading, the overhead of testing was 0.146760 seconds.                \n",
      "You can set `force_col_wise=true` to remove the overhead.\n",
      "[LightGBM] [Info] Total Bins 7679                                                                                      \n",
      "[LightGBM] [Info] Number of data points in the train set: 731235, number of used features: 31                          \n",
      "[LightGBM] [Info] [binary:BoostFromScore]: pavg=0.499999 -> initscore=-0.000003                                        \n",
      "[LightGBM] [Info] Start training from score -0.000003                                                                  \n",
      "[LightGBM] [Info] Number of positive: 365617, number of negative: 365618                                               \n",
      "[LightGBM] [Info] Auto-choosing col-wise multi-threading, the overhead of testing was 0.186443 seconds.                \n",
      "You can set `force_col_wise=true` to remove the overhead.\n",
      "[LightGBM] [Info] Total Bins 7678                                                                                      \n",
      "[LightGBM] [Info] Number of data points in the train set: 731235, number of used features: 31                          \n",
      "[LightGBM] [Info] [binary:BoostFromScore]: pavg=0.499999 -> initscore=-0.000003                                        \n",
      "[LightGBM] [Info] Start training from score -0.000003                                                                  \n",
      "[LightGBM] [Info] Number of positive: 365618, number of negative: 365617                                               \n",
      "[LightGBM] [Info] Auto-choosing col-wise multi-threading, the overhead of testing was 0.173206 seconds.                \n",
      "You can set `force_col_wise=true` to remove the overhead.\n",
      "[LightGBM] [Info] Total Bins 7678                                                                                      \n",
      "[LightGBM] [Info] Number of data points in the train set: 731235, number of used features: 31                          \n",
      "[LightGBM] [Info] [binary:BoostFromScore]: pavg=0.500001 -> initscore=0.000003                                         \n",
      "[LightGBM] [Info] Start training from score 0.000003                                                                   \n",
      "[LightGBM] [Info] Number of positive: 365618, number of negative: 365617                                               \n",
      "[LightGBM] [Info] Auto-choosing col-wise multi-threading, the overhead of testing was 0.186750 seconds.                \n",
      "You can set `force_col_wise=true` to remove the overhead.\n",
      "[LightGBM] [Info] Total Bins 7679                                                                                      \n",
      "[LightGBM] [Info] Number of data points in the train set: 731235, number of used features: 31                          \n",
      "[LightGBM] [Info] [binary:BoostFromScore]: pavg=0.500001 -> initscore=0.000003                                         \n",
      "[LightGBM] [Info] Start training from score 0.000003                                                                   \n",
      "[LightGBM] [Info] Number of positive: 365617, number of negative: 365618                                               \n",
      "[LightGBM] [Info] Auto-choosing col-wise multi-threading, the overhead of testing was 0.166530 seconds.                \n",
      "You can set `force_col_wise=true` to remove the overhead.\n"
     ]
    },
    {
     "name": "stdout",
     "output_type": "stream",
     "text": [
      "[LightGBM] [Info] Total Bins 7679                                                                                      \n",
      "[LightGBM] [Info] Number of data points in the train set: 731235, number of used features: 31                          \n",
      "[LightGBM] [Info] [binary:BoostFromScore]: pavg=0.499999 -> initscore=-0.000003                                        \n",
      "[LightGBM] [Info] Start training from score -0.000003                                                                  \n",
      "[LightGBM] [Info] Number of positive: 365617, number of negative: 365618                                               \n",
      "[LightGBM] [Info] Auto-choosing col-wise multi-threading, the overhead of testing was 0.156238 seconds.                \n",
      "You can set `force_col_wise=true` to remove the overhead.\n",
      "[LightGBM] [Info] Total Bins 7678                                                                                      \n",
      "[LightGBM] [Info] Number of data points in the train set: 731235, number of used features: 31                          \n",
      "[LightGBM] [Info] [binary:BoostFromScore]: pavg=0.499999 -> initscore=-0.000003                                        \n",
      "[LightGBM] [Info] Start training from score -0.000003                                                                  \n",
      "[LightGBM] [Info] Number of positive: 365618, number of negative: 365617                                               \n",
      "[LightGBM] [Info] Auto-choosing col-wise multi-threading, the overhead of testing was 0.178108 seconds.                \n",
      "You can set `force_col_wise=true` to remove the overhead.\n",
      "[LightGBM] [Info] Total Bins 7678                                                                                      \n",
      "[LightGBM] [Info] Number of data points in the train set: 731235, number of used features: 31                          \n",
      "[LightGBM] [Info] [binary:BoostFromScore]: pavg=0.500001 -> initscore=0.000003                                         \n",
      "[LightGBM] [Info] Start training from score 0.000003                                                                   \n",
      "[LightGBM] [Info] Number of positive: 365618, number of negative: 365617                                               \n",
      "[LightGBM] [Info] Auto-choosing col-wise multi-threading, the overhead of testing was 0.151577 seconds.                \n",
      "You can set `force_col_wise=true` to remove the overhead.\n",
      "[LightGBM] [Info] Total Bins 7679                                                                                      \n",
      "[LightGBM] [Info] Number of data points in the train set: 731235, number of used features: 31                          \n",
      "[LightGBM] [Info] [binary:BoostFromScore]: pavg=0.500001 -> initscore=0.000003                                         \n",
      "[LightGBM] [Info] Start training from score 0.000003                                                                   \n",
      "[LightGBM] [Info] Number of positive: 365617, number of negative: 365618                                               \n",
      "[LightGBM] [Info] Auto-choosing col-wise multi-threading, the overhead of testing was 0.164835 seconds.                \n",
      "You can set `force_col_wise=true` to remove the overhead.\n",
      "[LightGBM] [Info] Total Bins 7679                                                                                      \n",
      "[LightGBM] [Info] Number of data points in the train set: 731235, number of used features: 31                          \n",
      "[LightGBM] [Info] [binary:BoostFromScore]: pavg=0.499999 -> initscore=-0.000003                                        \n",
      "[LightGBM] [Info] Start training from score -0.000003                                                                  \n",
      "[LightGBM] [Info] Number of positive: 365617, number of negative: 365618                                               \n",
      "[LightGBM] [Info] Auto-choosing col-wise multi-threading, the overhead of testing was 0.143845 seconds.                \n",
      "You can set `force_col_wise=true` to remove the overhead.\n",
      "[LightGBM] [Info] Total Bins 7678                                                                                      \n",
      "[LightGBM] [Info] Number of data points in the train set: 731235, number of used features: 31                          \n",
      "[LightGBM] [Info] [binary:BoostFromScore]: pavg=0.499999 -> initscore=-0.000003                                        \n",
      "[LightGBM] [Info] Start training from score -0.000003                                                                  \n",
      "[LightGBM] [Info] Number of positive: 365618, number of negative: 365617                                               \n",
      "[LightGBM] [Info] Auto-choosing col-wise multi-threading, the overhead of testing was 0.161215 seconds.                \n",
      "You can set `force_col_wise=true` to remove the overhead.\n",
      "[LightGBM] [Info] Total Bins 7678                                                                                      \n",
      "[LightGBM] [Info] Number of data points in the train set: 731235, number of used features: 31                          \n",
      "[LightGBM] [Info] [binary:BoostFromScore]: pavg=0.500001 -> initscore=0.000003                                         \n",
      "[LightGBM] [Info] Start training from score 0.000003                                                                   \n",
      "[LightGBM] [Info] Number of positive: 365618, number of negative: 365617                                               \n",
      "[LightGBM] [Info] Auto-choosing col-wise multi-threading, the overhead of testing was 0.185013 seconds.                \n",
      "You can set `force_col_wise=true` to remove the overhead.\n",
      "[LightGBM] [Info] Total Bins 7679                                                                                      \n",
      "[LightGBM] [Info] Number of data points in the train set: 731235, number of used features: 31                          \n",
      "[LightGBM] [Info] [binary:BoostFromScore]: pavg=0.500001 -> initscore=0.000003                                         \n",
      "[LightGBM] [Info] Start training from score 0.000003                                                                   \n",
      "[LightGBM] [Info] Number of positive: 365617, number of negative: 365618                                               \n",
      "[LightGBM] [Info] Auto-choosing col-wise multi-threading, the overhead of testing was 0.200687 seconds.                \n",
      "You can set `force_col_wise=true` to remove the overhead.\n",
      "[LightGBM] [Info] Total Bins 7679                                                                                      \n",
      "[LightGBM] [Info] Number of data points in the train set: 731235, number of used features: 31                          \n",
      "[LightGBM] [Info] [binary:BoostFromScore]: pavg=0.499999 -> initscore=-0.000003                                        \n",
      "[LightGBM] [Info] Start training from score -0.000003                                                                  \n",
      "[LightGBM] [Info] Number of positive: 365617, number of negative: 365618                                               \n",
      "[LightGBM] [Info] Auto-choosing col-wise multi-threading, the overhead of testing was 0.176147 seconds.                \n",
      "You can set `force_col_wise=true` to remove the overhead.\n",
      "[LightGBM] [Info] Total Bins 7678                                                                                      \n",
      "[LightGBM] [Info] Number of data points in the train set: 731235, number of used features: 31                          \n",
      "[LightGBM] [Info] [binary:BoostFromScore]: pavg=0.499999 -> initscore=-0.000003                                        \n",
      "[LightGBM] [Info] Start training from score -0.000003                                                                  \n",
      "[LightGBM] [Info] Number of positive: 365618, number of negative: 365617                                               \n",
      "[LightGBM] [Info] Auto-choosing col-wise multi-threading, the overhead of testing was 0.170833 seconds.                \n",
      "You can set `force_col_wise=true` to remove the overhead.\n",
      "[LightGBM] [Info] Total Bins 7678                                                                                      \n",
      "[LightGBM] [Info] Number of data points in the train set: 731235, number of used features: 31                          \n",
      "[LightGBM] [Info] [binary:BoostFromScore]: pavg=0.500001 -> initscore=0.000003                                         \n"
     ]
    },
    {
     "name": "stdout",
     "output_type": "stream",
     "text": [
      "[LightGBM] [Info] Start training from score 0.000003                                                                   \n",
      "[LightGBM] [Info] Number of positive: 365618, number of negative: 365617                                               \n",
      "[LightGBM] [Info] Auto-choosing col-wise multi-threading, the overhead of testing was 0.169419 seconds.                \n",
      "You can set `force_col_wise=true` to remove the overhead.\n",
      "[LightGBM] [Info] Total Bins 7679                                                                                      \n",
      "[LightGBM] [Info] Number of data points in the train set: 731235, number of used features: 31                          \n",
      "[LightGBM] [Info] [binary:BoostFromScore]: pavg=0.500001 -> initscore=0.000003                                         \n",
      "[LightGBM] [Info] Start training from score 0.000003                                                                   \n",
      "[LightGBM] [Info] Number of positive: 365617, number of negative: 365618                                               \n",
      "[LightGBM] [Info] Auto-choosing col-wise multi-threading, the overhead of testing was 0.151240 seconds.                \n",
      "You can set `force_col_wise=true` to remove the overhead.\n",
      "[LightGBM] [Info] Total Bins 7679                                                                                      \n",
      "[LightGBM] [Info] Number of data points in the train set: 731235, number of used features: 31                          \n",
      "[LightGBM] [Info] [binary:BoostFromScore]: pavg=0.499999 -> initscore=-0.000003                                        \n",
      "[LightGBM] [Info] Start training from score -0.000003                                                                  \n",
      "[LightGBM] [Info] Number of positive: 365617, number of negative: 365618                                               \n",
      "[LightGBM] [Info] Auto-choosing col-wise multi-threading, the overhead of testing was 0.173085 seconds.                \n",
      "You can set `force_col_wise=true` to remove the overhead.\n",
      "[LightGBM] [Info] Total Bins 7678                                                                                      \n",
      "[LightGBM] [Info] Number of data points in the train set: 731235, number of used features: 31                          \n",
      "[LightGBM] [Info] [binary:BoostFromScore]: pavg=0.499999 -> initscore=-0.000003                                        \n",
      "[LightGBM] [Info] Start training from score -0.000003                                                                  \n",
      "[LightGBM] [Info] Number of positive: 365618, number of negative: 365617                                               \n",
      "[LightGBM] [Info] Auto-choosing col-wise multi-threading, the overhead of testing was 0.164520 seconds.                \n",
      "You can set `force_col_wise=true` to remove the overhead.\n",
      "[LightGBM] [Info] Total Bins 7678                                                                                      \n",
      "[LightGBM] [Info] Number of data points in the train set: 731235, number of used features: 31                          \n",
      "[LightGBM] [Info] [binary:BoostFromScore]: pavg=0.500001 -> initscore=0.000003                                         \n",
      "[LightGBM] [Info] Start training from score 0.000003                                                                   \n",
      "[LightGBM] [Warning] No further splits with positive gain, best gain: -inf                                             \n",
      "[LightGBM] [Warning] No further splits with positive gain, best gain: -inf                                             \n",
      "[LightGBM] [Warning] No further splits with positive gain, best gain: -inf                                             \n",
      "[LightGBM] [Warning] No further splits with positive gain, best gain: -inf                                             \n",
      "[LightGBM] [Warning] No further splits with positive gain, best gain: -inf                                             \n",
      "[LightGBM] [Warning] No further splits with positive gain, best gain: -inf                                             \n",
      "[LightGBM] [Warning] No further splits with positive gain, best gain: -inf                                             \n",
      "[LightGBM] [Info] Number of positive: 365618, number of negative: 365617                                               \n",
      "[LightGBM] [Info] Auto-choosing col-wise multi-threading, the overhead of testing was 0.164642 seconds.                \n",
      "You can set `force_col_wise=true` to remove the overhead.\n",
      "[LightGBM] [Info] Total Bins 7679                                                                                      \n",
      "[LightGBM] [Info] Number of data points in the train set: 731235, number of used features: 31                          \n",
      "[LightGBM] [Info] [binary:BoostFromScore]: pavg=0.500001 -> initscore=0.000003                                         \n",
      "[LightGBM] [Info] Start training from score 0.000003                                                                   \n",
      "[LightGBM] [Warning] No further splits with positive gain, best gain: -inf                                             \n",
      "[LightGBM] [Warning] No further splits with positive gain, best gain: -inf                                             \n",
      "[LightGBM] [Warning] No further splits with positive gain, best gain: -inf                                             \n",
      "[LightGBM] [Warning] No further splits with positive gain, best gain: -inf                                             \n",
      "[LightGBM] [Warning] No further splits with positive gain, best gain: -inf                                             \n",
      "[LightGBM] [Warning] No further splits with positive gain, best gain: -inf                                             \n",
      "[LightGBM] [Warning] No further splits with positive gain, best gain: -inf                                             \n",
      "[LightGBM] [Warning] No further splits with positive gain, best gain: -inf                                             \n",
      "[LightGBM] [Info] Number of positive: 365617, number of negative: 365618                                               \n",
      "[LightGBM] [Info] Auto-choosing col-wise multi-threading, the overhead of testing was 0.160342 seconds.                \n",
      "You can set `force_col_wise=true` to remove the overhead.\n",
      "[LightGBM] [Info] Total Bins 7679                                                                                      \n",
      "[LightGBM] [Info] Number of data points in the train set: 731235, number of used features: 31                          \n",
      "[LightGBM] [Info] [binary:BoostFromScore]: pavg=0.499999 -> initscore=-0.000003                                        \n",
      "[LightGBM] [Info] Start training from score -0.000003                                                                  \n",
      "[LightGBM] [Warning] No further splits with positive gain, best gain: -inf                                             \n",
      "[LightGBM] [Warning] No further splits with positive gain, best gain: -inf                                             \n",
      "[LightGBM] [Warning] No further splits with positive gain, best gain: -inf                                             \n",
      "[LightGBM] [Warning] No further splits with positive gain, best gain: -inf                                             \n",
      "[LightGBM] [Warning] No further splits with positive gain, best gain: -inf                                             \n",
      "[LightGBM] [Warning] No further splits with positive gain, best gain: -inf                                             \n",
      "[LightGBM] [Warning] No further splits with positive gain, best gain: -inf                                             \n",
      "[LightGBM] [Warning] No further splits with positive gain, best gain: -inf                                             \n",
      "[LightGBM] [Warning] No further splits with positive gain, best gain: -inf                                             \n",
      "[LightGBM] [Info] Number of positive: 365617, number of negative: 365618                                               \n",
      "[LightGBM] [Info] Auto-choosing col-wise multi-threading, the overhead of testing was 0.183013 seconds.                \n",
      "You can set `force_col_wise=true` to remove the overhead.\n",
      "[LightGBM] [Info] Total Bins 7678                                                                                      \n"
     ]
    },
    {
     "name": "stdout",
     "output_type": "stream",
     "text": [
      "[LightGBM] [Info] Number of data points in the train set: 731235, number of used features: 31                          \n",
      "[LightGBM] [Info] [binary:BoostFromScore]: pavg=0.499999 -> initscore=-0.000003                                        \n",
      "[LightGBM] [Info] Start training from score -0.000003                                                                  \n",
      "[LightGBM] [Warning] No further splits with positive gain, best gain: -inf                                             \n",
      "[LightGBM] [Warning] No further splits with positive gain, best gain: -inf                                             \n",
      "[LightGBM] [Warning] No further splits with positive gain, best gain: -inf                                             \n",
      "[LightGBM] [Warning] No further splits with positive gain, best gain: -inf                                             \n",
      "[LightGBM] [Warning] No further splits with positive gain, best gain: -inf                                             \n",
      "[LightGBM] [Warning] No further splits with positive gain, best gain: -inf                                             \n",
      "[LightGBM] [Warning] No further splits with positive gain, best gain: -inf                                             \n",
      "[LightGBM] [Warning] No further splits with positive gain, best gain: -inf                                             \n",
      "[LightGBM] [Warning] No further splits with positive gain, best gain: -inf                                             \n",
      "[LightGBM] [Info] Number of positive: 365618, number of negative: 365617                                               \n",
      "[LightGBM] [Info] Auto-choosing col-wise multi-threading, the overhead of testing was 0.185854 seconds.                \n",
      "You can set `force_col_wise=true` to remove the overhead.\n",
      "[LightGBM] [Info] Total Bins 7678                                                                                      \n",
      "[LightGBM] [Info] Number of data points in the train set: 731235, number of used features: 31                          \n",
      "[LightGBM] [Info] [binary:BoostFromScore]: pavg=0.500001 -> initscore=0.000003                                         \n",
      "[LightGBM] [Info] Start training from score 0.000003                                                                   \n",
      "[LightGBM] [Info] Number of positive: 365618, number of negative: 365617                                               \n",
      "[LightGBM] [Info] Auto-choosing col-wise multi-threading, the overhead of testing was 0.155511 seconds.                \n",
      "You can set `force_col_wise=true` to remove the overhead.\n",
      "[LightGBM] [Info] Total Bins 7679                                                                                      \n",
      "[LightGBM] [Info] Number of data points in the train set: 731235, number of used features: 31                          \n",
      "[LightGBM] [Info] [binary:BoostFromScore]: pavg=0.500001 -> initscore=0.000003                                         \n",
      "[LightGBM] [Info] Start training from score 0.000003                                                                   \n",
      "[LightGBM] [Info] Number of positive: 365617, number of negative: 365618                                               \n",
      "[LightGBM] [Info] Auto-choosing col-wise multi-threading, the overhead of testing was 0.152220 seconds.                \n",
      "You can set `force_col_wise=true` to remove the overhead.\n",
      "[LightGBM] [Info] Total Bins 7679                                                                                      \n",
      "[LightGBM] [Info] Number of data points in the train set: 731235, number of used features: 31                          \n",
      "[LightGBM] [Info] [binary:BoostFromScore]: pavg=0.499999 -> initscore=-0.000003                                        \n",
      "[LightGBM] [Info] Start training from score -0.000003                                                                  \n",
      "[LightGBM] [Info] Number of positive: 365617, number of negative: 365618                                               \n",
      "[LightGBM] [Info] Auto-choosing col-wise multi-threading, the overhead of testing was 0.151567 seconds.                \n",
      "You can set `force_col_wise=true` to remove the overhead.\n",
      "[LightGBM] [Info] Total Bins 7678                                                                                      \n",
      "[LightGBM] [Info] Number of data points in the train set: 731235, number of used features: 31                          \n",
      "[LightGBM] [Info] [binary:BoostFromScore]: pavg=0.499999 -> initscore=-0.000003                                        \n",
      "[LightGBM] [Info] Start training from score -0.000003                                                                  \n",
      "100%|████████████████████████████████████████████████| 8/8 [04:01<00:00, 30.18s/trial, best loss: 1.64107950209047e-05]\n"
     ]
    }
   ],
   "source": [
    "# optimize with the TPE algorithm\n",
    "trials_1 = Trials()\n",
    "n_folds = 4\n",
    "\n",
    "best = fmin(fn = partial(objective, n_folds = n_folds,\n",
    "                         x = xtrain_exp1, y = ytrain_exp1),\n",
    "           space = search_space, algo = tpe.suggest, max_evals = 8, trials = trials_1,\n",
    "           )"
   ]
  },
  {
   "cell_type": "code",
   "execution_count": 125,
   "id": "1f8099b8",
   "metadata": {},
   "outputs": [
    {
     "name": "stdout",
     "output_type": "stream",
     "text": [
      "{'max_depth': 13.0, 'min_child_samples': 45.0, 'n_estimators': 82.0, 'num_leaves': 28.0, 'reg_alpha': 0.8485727275388625, 'reg_lambda': 0.25697353165485826}\n"
     ]
    }
   ],
   "source": [
    "print(best)"
   ]
  },
  {
   "cell_type": "code",
   "execution_count": 126,
   "id": "74acf151",
   "metadata": {},
   "outputs": [
    {
     "name": "stdout",
     "output_type": "stream",
     "text": [
      "1.64107950209047e-05\n"
     ]
    }
   ],
   "source": [
    "print(trials_1.best_trial['result']['loss'])"
   ]
  },
  {
   "cell_type": "markdown",
   "id": "bab48c10",
   "metadata": {},
   "source": [
    "#### Xgboost"
   ]
  },
  {
   "cell_type": "code",
   "execution_count": 267,
   "id": "7aaf3357",
   "metadata": {},
   "outputs": [],
   "source": [
    "search_space = {\n",
    "    'n_estimators': hp.quniform('n_estimators', 100, 1000, 1),\n",
    "    'learning_rate': hp.uniform('learning_rate', 0.01, 0.3),\n",
    "    'max_depth': hp.quniform('max_depth', 3, 15, 1),\n",
    "    'min_child_weight': hp.quniform('min_child_weight', 1, 10, 1),\n",
    "    'gamma': hp.uniform('gamma', 0, 5),\n",
    "    'reg_alpha': hp.uniform('reg_alpha', 0, 1),\n",
    "    'reg_lambda': hp.uniform('reg_lambda', 0, 1),\n",
    "    'scale_pos_weight': hp.quniform('scale_pos_weight', 1, 10, 1),\n",
    "}"
   ]
  },
  {
   "cell_type": "code",
   "execution_count": 268,
   "id": "70b468b3",
   "metadata": {},
   "outputs": [],
   "source": [
    "def objective(params, n_folds, x, y):\n",
    "    \n",
    "    params['scale_pos_weight'] = int(params['scale_pos_weight'])\n",
    "    params['max_depth'] = int(params['max_depth'])\n",
    "    params['n_estimators'] = int(params['n_estimators'])\n",
    "    params['min_child_weight'] = int(params['min_child_weight'])\n",
    "    \n",
    "    model = xgb.XGBClassifier(**params, random_state = 0)\n",
    "    \n",
    "    scores = cross_val_score(model, x, y, cv = n_folds, scoring = 'f1', error_score='raise')\n",
    "    \n",
    "    max_score = max(scores)\n",
    "    \n",
    "    # to minimize\n",
    "    loss = 1 - max_score\n",
    "    \n",
    "    return {'loss':loss,\n",
    "           'params':params,\n",
    "           'status': STATUS_OK}"
   ]
  },
  {
   "cell_type": "code",
   "execution_count": null,
   "id": "1e767917",
   "metadata": {},
   "outputs": [
    {
     "name": "stdout",
     "output_type": "stream",
     "text": [
      " 25%|██████████                              | 2/8 [3:51:43<10:22:02, 6220.38s/trial, best loss: 7.384251852216028e-05]"
     ]
    }
   ],
   "source": [
    "#  optimize with the TPE algorithm\n",
    "trials_x = Trials()\n",
    "n_folds = 4\n",
    "\n",
    "best = fmin(fn = partial(objective, n_folds = n_folds,\n",
    "                         x = xtrain_exp1, y = ytrain_exp1),\n",
    "           space = search_space, algo = tpe.suggest, max_evals = 8, trials = trials_x,\n",
    "           )"
   ]
  },
  {
   "cell_type": "code",
   "execution_count": null,
   "id": "b50ef7af",
   "metadata": {},
   "outputs": [],
   "source": [
    "print(best)"
   ]
  },
  {
   "cell_type": "code",
   "execution_count": null,
   "id": "7a4befde",
   "metadata": {},
   "outputs": [],
   "source": [
    "print(trials_x.best_trial['result']['loss'])"
   ]
  },
  {
   "cell_type": "markdown",
   "id": "0a0dcacb",
   "metadata": {},
   "source": [
    "## Preprocessor - Experiment 2\n",
    "\n",
    "1. Missing Values: Percentile Imputation\n",
    "2. Encoding: Ordinal\n",
    "3. Transformation: Sqrt\n",
    "4. Outliers: Winsorize(0.95-0.05)\n",
    "5. Scaling: RobustScaler\n",
    "6. Resampling: ADASYN\n",
    "7. Feature Selection: SelectFromModel"
   ]
  },
  {
   "cell_type": "code",
   "execution_count": 127,
   "id": "8200ec73",
   "metadata": {},
   "outputs": [],
   "source": [
    "categorical_exp2, numerical_exp2, xtrain_exp2, ytrain_exp2 = split_data_by_type(full_train_df, config['EDA']['target'])\n",
    "\n",
    "categorical_exp2, numerical_exp2, xvalidation_exp2, yvalidation_exp2 = split_data_by_type(validation_df, config['EDA']['target'])"
   ]
  },
  {
   "cell_type": "code",
   "execution_count": 128,
   "id": "f2534c3c",
   "metadata": {},
   "outputs": [],
   "source": [
    "num_pipeline_exp2 = Pipeline([\n",
    "    ('transformer', FunctionTransformer(np.sqrt)),\n",
    "    ('imputer', FunctionTransformer(percentile_imputer)),\n",
    "    ('winsorize', FunctionTransformer(winsorize)),\n",
    "    ('scaler', RobustScaler()),  \n",
    "])\n",
    "\n",
    "cat_pipeline_exp2 = Pipeline([\n",
    "    ('imputer', SimpleImputer(strategy = 'most_frequent')),\n",
    "    ('encoder', OrdinalEncoder()),\n",
    "    \n",
    "])"
   ]
  },
  {
   "cell_type": "code",
   "execution_count": 129,
   "id": "6bb5ec0b",
   "metadata": {},
   "outputs": [],
   "source": [
    "pipeline_exp2 = create_pipeline(num_pipeline_exp2, numerical_exp2, cat_pipeline_exp2, categorical_exp2)"
   ]
  },
  {
   "cell_type": "code",
   "execution_count": 130,
   "id": "aee0277d",
   "metadata": {},
   "outputs": [],
   "source": [
    "xtrain_exp2 = pipeline_exp2.fit_transform(xtrain_exp2)"
   ]
  },
  {
   "cell_type": "code",
   "execution_count": 131,
   "id": "5feffe4d",
   "metadata": {},
   "outputs": [],
   "source": [
    "xvalidation_exp2 = pipeline_exp2.transform(xvalidation_exp2)"
   ]
  },
  {
   "cell_type": "code",
   "execution_count": 132,
   "id": "68adb70e",
   "metadata": {},
   "outputs": [],
   "source": [
    "# adasyn\n",
    "\n",
    "adasyn = ADASYN()"
   ]
  },
  {
   "cell_type": "code",
   "execution_count": 133,
   "id": "9b537256",
   "metadata": {},
   "outputs": [],
   "source": [
    "xtrain_exp2, ytrain_exp2 = adasyn.fit_resample(xtrain_exp2, ytrain_exp2)"
   ]
  },
  {
   "cell_type": "code",
   "execution_count": 134,
   "id": "0694487b",
   "metadata": {},
   "outputs": [],
   "source": [
    "rf = RandomForestClassifier()\n",
    "\n",
    "selector = SelectFromModel(rf, threshold=0.0001).fit(xtrain_exp2, ytrain_exp2)"
   ]
  },
  {
   "cell_type": "code",
   "execution_count": 135,
   "id": "c69530c5",
   "metadata": {},
   "outputs": [
    {
     "data": {
      "text/plain": [
       "51"
      ]
     },
     "execution_count": 135,
     "metadata": {},
     "output_type": "execute_result"
    }
   ],
   "source": [
    "selected_columns_exp2 = xtrain_exp2.columns[selector.get_support()]\n",
    "\n",
    "len(selected_columns_exp2)"
   ]
  },
  {
   "cell_type": "code",
   "execution_count": 136,
   "id": "289e5a2b",
   "metadata": {},
   "outputs": [],
   "source": [
    "xtrain_exp2 = xtrain_exp2[selected_columns_exp2]\n",
    "\n",
    "xvalidation_exp2 = xvalidation_exp2[selected_columns_exp2]"
   ]
  },
  {
   "cell_type": "markdown",
   "id": "c2a737a5",
   "metadata": {},
   "source": [
    "### Hyperparameter Tuning - Exp 2"
   ]
  },
  {
   "cell_type": "markdown",
   "id": "9e65833b",
   "metadata": {},
   "source": [
    "#### Random Forest"
   ]
  },
  {
   "cell_type": "code",
   "execution_count": 137,
   "id": "497c66df",
   "metadata": {},
   "outputs": [],
   "source": [
    "# create the search space for an over fitting model\n",
    "\n",
    "search_space = {\n",
    "    'n_estimators': hp.quniform('n_estimators', 10, 500, 1),\n",
    "    'criterion': hp.choice('criterion', ['gini', 'entropy']),\n",
    "    'max_depth': hp.quniform('max_depth', 2, 30, 1),\n",
    "    'min_samples_split': hp.quniform('min_samples_split', 4, 30, 1),\n",
    "    'min_weight_fraction_leaf': hp.uniform('min_weight_fraction_leaf', 0.0, 0.5),\n",
    "    'max_leaf_nodes': hp.quniform('max_leaf_nodes',8,30,1),\n",
    "    'warm_start': hp.choice('warm_start', [True, False]),\n",
    "    'class_weight': hp.choice('class_weight', ['balanced', 'balanced_subsample']),\n",
    "    'ccp_alpha': hp.uniform('ccp_alpha', 0.0, 0.9)\n",
    "   \n",
    "}"
   ]
  },
  {
   "cell_type": "code",
   "execution_count": 138,
   "id": "8eb0f36c",
   "metadata": {},
   "outputs": [],
   "source": [
    "def objective(params, n_folds, x, y):\n",
    "    \n",
    "    params['n_estimators'] = int(params['n_estimators'])\n",
    "    params['max_depth'] = int(params['max_depth'])\n",
    "    params['min_samples_split'] = int(params['min_samples_split'])\n",
    "    params['max_leaf_nodes'] = int(params['max_leaf_nodes'])\n",
    "    \n",
    "    \n",
    "    model = RandomForestClassifier(**params, random_state = 0)\n",
    "    \n",
    "    scores = cross_val_score(model, x, y, cv = n_folds, scoring = 'f1', error_score='raise')\n",
    "    \n",
    "    max_score = max(scores)\n",
    "    \n",
    "    # to minimize\n",
    "    loss = 1 - max_score\n",
    "    \n",
    "    return {'loss':loss,\n",
    "           'params':params,\n",
    "           'status': STATUS_OK}"
   ]
  },
  {
   "cell_type": "code",
   "execution_count": 139,
   "id": "2fd6f814",
   "metadata": {},
   "outputs": [],
   "source": [
    "def objective(params, n_folds, x, y):\n",
    "    \n",
    "    params['n_estimators'] = int(params['n_estimators'])\n",
    "    params['max_depth'] = int(params['max_depth'])\n",
    "    params['min_samples_split'] = int(params['min_samples_split'])\n",
    "    params['max_leaf_nodes'] = int(params['max_leaf_nodes'])\n",
    "    \n",
    "    \n",
    "    model = RandomForestClassifier(**params, random_state = 0)\n",
    "    \n",
    "    scores = cross_val_score(model, x, y, cv = n_folds, scoring = 'f1', error_score='raise')\n",
    "    \n",
    "    max_score = max(scores)\n",
    "    \n",
    "    # to minimize\n",
    "    loss = 1 - max_score\n",
    "    \n",
    "    return {'loss':loss,\n",
    "           'params':params,\n",
    "           'status': STATUS_OK}"
   ]
  },
  {
   "cell_type": "code",
   "execution_count": 142,
   "id": "339e55f5",
   "metadata": {},
   "outputs": [
    {
     "name": "stdout",
     "output_type": "stream",
     "text": [
      "100%|█████████████████████████████████████████████| 8/8 [2:45:19<00:00, 1239.96s/trial, best loss: 0.20725583525524638]\n"
     ]
    }
   ],
   "source": [
    "# optimize with the TPE algorithm\n",
    "trials_2 = Trials()\n",
    "n_folds = 4\n",
    "\n",
    "best = fmin(fn = partial(objective, n_folds = n_folds,\n",
    "                         x = xtrain_exp2, y = ytrain_exp2),\n",
    "           space = search_space, algo = tpe.suggest, max_evals = 8, trials = trials_2,\n",
    "           )"
   ]
  },
  {
   "cell_type": "code",
   "execution_count": 143,
   "id": "57ebfde9",
   "metadata": {},
   "outputs": [
    {
     "name": "stdout",
     "output_type": "stream",
     "text": [
      "0.20725583525524638\n"
     ]
    }
   ],
   "source": [
    "print(trials_2.best_trial['result']['loss'])"
   ]
  },
  {
   "cell_type": "code",
   "execution_count": 226,
   "id": "de020333",
   "metadata": {},
   "outputs": [],
   "source": [
    "config['Hyperparameter Tuning'] = {}\n",
    "config['Hyperparameter Tuning']['best_hyperparameters'] = {}\n",
    "\n",
    "\n",
    "lightgbm_best = {'max_depth': 13.0, 'min_child_samples': 45.0, 'n_estimators': 82.0, 'num_leaves': 28.0, 'reg_alpha': 0.8485727275388625, 'reg_lambda': 0.25697353165485826}\n",
    "randomforest_best = {'ccp_alpha': 0.8355154331803291, 'class_weight': 0, 'criterion': 0, 'max_depth': 25.0, 'max_leaf_nodes': 10.0, 'min_samples_split': 16.0, 'min_weight_fraction_leaf': 0.03164012540078487, 'n_estimators': 251.0, 'warm_start': 0}"
   ]
  },
  {
   "cell_type": "code",
   "execution_count": 227,
   "id": "78225744",
   "metadata": {},
   "outputs": [],
   "source": [
    "int_hyperparams = ['max_depth', 'min_child_samples', 'n_estimators', 'num_leaves', 'min_samples_split',\n",
    "                  'max_leaf_nodes']\n",
    "\n",
    "for hyperparam in int_hyperparams:\n",
    "    \n",
    "    if hyperparam in lightgbm_best:\n",
    "        \n",
    "        lightgbm_best[hyperparam] = int(lightgbm_best[hyperparam])\n",
    "        \n",
    "    if hyperparam in randomforest_best:\n",
    "        \n",
    "        randomforest_best[hyperparam] = int(randomforest_best[hyperparam])"
   ]
  },
  {
   "cell_type": "code",
   "execution_count": 228,
   "id": "c3ee7668",
   "metadata": {},
   "outputs": [],
   "source": [
    "# map the actual values back to strings\n",
    "to_map_hyperparams = {'criterion': ['gini', 'entropy'],\n",
    "                      'warm_start': [True, False],\n",
    "                      'class_weight': ['balanced', 'balanced_subsample']\n",
    "                     }"
   ]
  },
  {
   "cell_type": "code",
   "execution_count": 229,
   "id": "1b6be56e",
   "metadata": {},
   "outputs": [],
   "source": [
    "randomforest_best['criterion'] = to_map_hyperparams['criterion'][randomforest_best['criterion']]\n",
    "randomforest_best['warm_start'] = to_map_hyperparams['warm_start'][randomforest_best['warm_start']]\n",
    "randomforest_best['class_weight'] = to_map_hyperparams['class_weight'][randomforest_best['class_weight']]"
   ]
  },
  {
   "cell_type": "code",
   "execution_count": 230,
   "id": "d7e0a5d2",
   "metadata": {},
   "outputs": [],
   "source": [
    "config['Hyperparameter Tuning']['best_hyperparameters']['Random Forest'] = randomforest_best\n",
    "config['Hyperparameter Tuning']['best_hyperparameters']['LightGBM'] = lightgbm_best"
   ]
  },
  {
   "cell_type": "markdown",
   "id": "edd4d4ad",
   "metadata": {},
   "source": [
    "# Model Training"
   ]
  },
  {
   "cell_type": "code",
   "execution_count": 241,
   "id": "269f0669",
   "metadata": {},
   "outputs": [],
   "source": [
    "def evaluate_sets(ytrue, ypred, yproba, set_type, name):\n",
    "\n",
    "    print('Starting evaluation.....')\n",
    "    \n",
    "    \"\"\"This function evaluates the performance of a fitted model. It displays performance plots like confusion_matrix,\n",
    "    roc_curve, precision-recall curve\n",
    "    \n",
    "    Input:\n",
    "    ytrue: true values of y\n",
    "    ypred: predicted values of y\n",
    "    yproba: predicted probabilities of y\n",
    "    \n",
    "    Outputs: \n",
    "    DataFrame with models and metrics, and plots\n",
    "    \n",
    "    \"\"\"\n",
    "    \n",
    "    accuracy, precision, recall, f1_scores, auc_scores = [],[],[],[],[]\n",
    "            \n",
    "    acc = accuracy_score(ytrue, ypred)\n",
    "    accuracy.append(acc)\n",
    "\n",
    "    prec =  precision_score(ytrue, ypred)\n",
    "    precision.append(prec)\n",
    "\n",
    "    rec =  recall_score(ytrue, ypred)\n",
    "    recall.append(rec)\n",
    "\n",
    "    f1_ =  f1_score(ytrue, ypred)\n",
    "    f1_scores.append(f1_)\n",
    "\n",
    "    auc =  roc_auc_score(ytrue, ypred)\n",
    "    auc_scores.append(auc)\n",
    "\n",
    "\n",
    "    fpr, tpr, _ = roc_curve(ytrue, yproba)\n",
    "\n",
    "    precisions, recalls, _ =  precision_recall_curve(ytrue, yproba)\n",
    "\n",
    "    cm = confusion_matrix(ytrue, ypred)\n",
    "\n",
    "    performance_plots(cm,fpr,tpr,auc,name, precisions,recalls)\n",
    "\n",
    "    print(classification_report(ytrue, ypred))\n",
    "        \n",
    "        \n",
    "    return pd.DataFrame({\n",
    "    'Set type': set_type,\n",
    "    'AUC': auc_scores,\n",
    "    'F1': f1_scores,\n",
    "    'Accuracy': accuracy,\n",
    "    'Precision': precision,\n",
    "    'Recall': recall\n",
    "    }, index = [0])"
   ]
  },
  {
   "cell_type": "code",
   "execution_count": 196,
   "id": "7bf98263",
   "metadata": {},
   "outputs": [],
   "source": [
    "config['Model Training'] = {}\n",
    "\n",
    "config['Model Training']['Preprocessor'] = {}"
   ]
  },
  {
   "cell_type": "code",
   "execution_count": 197,
   "id": "1d7087cb",
   "metadata": {},
   "outputs": [],
   "source": [
    "# split data into dependent and independent and by type\n",
    "\n",
    "categorical_col_input, numerical_col_input, xtrain, ytrain = split_data_by_type(full_train_df, config['EDA']['target'])\n",
    "\n",
    "_, _, xtest, ytest = split_data_by_type(test_df, config['EDA']['target'])"
   ]
  },
  {
   "cell_type": "code",
   "execution_count": 198,
   "id": "ed13963d",
   "metadata": {},
   "outputs": [],
   "source": [
    "config['Model Training']['Preprocessor']['Categorical_input_columns'] = categorical_col_input\n",
    "\n",
    "config['Model Training']['Preprocessor']['Numerical_input_columns'] = numerical_col_input"
   ]
  },
  {
   "cell_type": "code",
   "execution_count": 199,
   "id": "892a1cc6",
   "metadata": {},
   "outputs": [],
   "source": [
    "num_pipeline = Pipeline([\n",
    "    ('transformer', FunctionTransformer(np.log1p)),\n",
    "    ('imputer', SimpleImputer(strategy = 'median')),\n",
    "    ('winsorize', FunctionTransformer(winsorize)),\n",
    "    ('scaler', StandardScaler()),  \n",
    "])\n",
    "\n",
    "cat_pipeline = Pipeline([\n",
    "    ('imputer', SimpleImputer(strategy = 'most_frequent')),\n",
    "    ('encoder', OneHotEncoder()),\n",
    "    \n",
    "])\n",
    "\n",
    "main_pipeline = create_pipeline(num_pipeline, numerical_col_input, cat_pipeline, categorical_col_input)"
   ]
  },
  {
   "cell_type": "code",
   "execution_count": 200,
   "id": "6368450a",
   "metadata": {},
   "outputs": [
    {
     "data": {
      "text/html": [
       "<style>#sk-container-id-4 {color: black;background-color: white;}#sk-container-id-4 pre{padding: 0;}#sk-container-id-4 div.sk-toggleable {background-color: white;}#sk-container-id-4 label.sk-toggleable__label {cursor: pointer;display: block;width: 100%;margin-bottom: 0;padding: 0.3em;box-sizing: border-box;text-align: center;}#sk-container-id-4 label.sk-toggleable__label-arrow:before {content: \"▸\";float: left;margin-right: 0.25em;color: #696969;}#sk-container-id-4 label.sk-toggleable__label-arrow:hover:before {color: black;}#sk-container-id-4 div.sk-estimator:hover label.sk-toggleable__label-arrow:before {color: black;}#sk-container-id-4 div.sk-toggleable__content {max-height: 0;max-width: 0;overflow: hidden;text-align: left;background-color: #f0f8ff;}#sk-container-id-4 div.sk-toggleable__content pre {margin: 0.2em;color: black;border-radius: 0.25em;background-color: #f0f8ff;}#sk-container-id-4 input.sk-toggleable__control:checked~div.sk-toggleable__content {max-height: 200px;max-width: 100%;overflow: auto;}#sk-container-id-4 input.sk-toggleable__control:checked~label.sk-toggleable__label-arrow:before {content: \"▾\";}#sk-container-id-4 div.sk-estimator input.sk-toggleable__control:checked~label.sk-toggleable__label {background-color: #d4ebff;}#sk-container-id-4 div.sk-label input.sk-toggleable__control:checked~label.sk-toggleable__label {background-color: #d4ebff;}#sk-container-id-4 input.sk-hidden--visually {border: 0;clip: rect(1px 1px 1px 1px);clip: rect(1px, 1px, 1px, 1px);height: 1px;margin: -1px;overflow: hidden;padding: 0;position: absolute;width: 1px;}#sk-container-id-4 div.sk-estimator {font-family: monospace;background-color: #f0f8ff;border: 1px dotted black;border-radius: 0.25em;box-sizing: border-box;margin-bottom: 0.5em;}#sk-container-id-4 div.sk-estimator:hover {background-color: #d4ebff;}#sk-container-id-4 div.sk-parallel-item::after {content: \"\";width: 100%;border-bottom: 1px solid gray;flex-grow: 1;}#sk-container-id-4 div.sk-label:hover label.sk-toggleable__label {background-color: #d4ebff;}#sk-container-id-4 div.sk-serial::before {content: \"\";position: absolute;border-left: 1px solid gray;box-sizing: border-box;top: 0;bottom: 0;left: 50%;z-index: 0;}#sk-container-id-4 div.sk-serial {display: flex;flex-direction: column;align-items: center;background-color: white;padding-right: 0.2em;padding-left: 0.2em;position: relative;}#sk-container-id-4 div.sk-item {position: relative;z-index: 1;}#sk-container-id-4 div.sk-parallel {display: flex;align-items: stretch;justify-content: center;background-color: white;position: relative;}#sk-container-id-4 div.sk-item::before, #sk-container-id-4 div.sk-parallel-item::before {content: \"\";position: absolute;border-left: 1px solid gray;box-sizing: border-box;top: 0;bottom: 0;left: 50%;z-index: -1;}#sk-container-id-4 div.sk-parallel-item {display: flex;flex-direction: column;z-index: 1;position: relative;background-color: white;}#sk-container-id-4 div.sk-parallel-item:first-child::after {align-self: flex-end;width: 50%;}#sk-container-id-4 div.sk-parallel-item:last-child::after {align-self: flex-start;width: 50%;}#sk-container-id-4 div.sk-parallel-item:only-child::after {width: 0;}#sk-container-id-4 div.sk-dashed-wrapped {border: 1px dashed gray;margin: 0 0.4em 0.5em 0.4em;box-sizing: border-box;padding-bottom: 0.4em;background-color: white;}#sk-container-id-4 div.sk-label label {font-family: monospace;font-weight: bold;display: inline-block;line-height: 1.2em;}#sk-container-id-4 div.sk-label-container {text-align: center;}#sk-container-id-4 div.sk-container {/* jupyter's `normalize.less` sets `[hidden] { display: none; }` but bootstrap.min.css set `[hidden] { display: none !important; }` so we also need the `!important` here to be able to override the default hidden behavior on the sphinx rendered scikit-learn.org. See: https://github.com/scikit-learn/scikit-learn/issues/21755 */display: inline-block !important;position: relative;}#sk-container-id-4 div.sk-text-repr-fallback {display: none;}</style><div id=\"sk-container-id-4\" class=\"sk-top-container\"><div class=\"sk-text-repr-fallback\"><pre>ColumnTransformer(remainder=&#x27;passthrough&#x27;,\n",
       "                  transformers=[(&#x27;num_pipeline&#x27;,\n",
       "                                 Pipeline(steps=[(&#x27;transformer&#x27;,\n",
       "                                                  FunctionTransformer(func=&lt;ufunc &#x27;log1p&#x27;&gt;)),\n",
       "                                                 (&#x27;imputer&#x27;,\n",
       "                                                  SimpleImputer(strategy=&#x27;median&#x27;)),\n",
       "                                                 (&#x27;winsorize&#x27;,\n",
       "                                                  FunctionTransformer(func=&lt;function winsorize at 0x000002B5E11B75B0&gt;)),\n",
       "                                                 (&#x27;scaler&#x27;, StandardScaler())]),\n",
       "                                 [&#x27;ps_ind_01&#x27;, &#x27;ps_ind_02_cat&#x27;, &#x27;ps_ind_04_cat&#x27;,\n",
       "                                  &#x27;ps_i...\n",
       "                                  &#x27;ps_ind_17_bin&#x27;, &#x27;ps_ind_18_bin&#x27;, &#x27;ps_reg_01&#x27;,\n",
       "                                  &#x27;ps_car_02_cat&#x27;, &#x27;ps_car_03_cat&#x27;,\n",
       "                                  &#x27;ps_car_04_cat&#x27;, &#x27;ps_car_05_cat&#x27;,\n",
       "                                  &#x27;ps_car_07_cat&#x27;, &#x27;ps_car_08_cat&#x27;,\n",
       "                                  &#x27;ps_car_09_cat&#x27;, &#x27;ps_car_10_cat&#x27;, &#x27;ps_car_11&#x27;,\n",
       "                                  &#x27;ps_calc_01&#x27;, &#x27;ps_calc_02&#x27;, &#x27;ps_calc_03&#x27;,\n",
       "                                  &#x27;ps_calc_04&#x27;, ...]),\n",
       "                                (&#x27;cat_pipeline&#x27;,\n",
       "                                 Pipeline(steps=[(&#x27;imputer&#x27;,\n",
       "                                                  SimpleImputer(strategy=&#x27;most_frequent&#x27;)),\n",
       "                                                 (&#x27;encoder&#x27;, OneHotEncoder())]),\n",
       "                                 [])],\n",
       "                  verbose_feature_names_out=False)</pre><b>In a Jupyter environment, please rerun this cell to show the HTML representation or trust the notebook. <br />On GitHub, the HTML representation is unable to render, please try loading this page with nbviewer.org.</b></div><div class=\"sk-container\" hidden><div class=\"sk-item sk-dashed-wrapped\"><div class=\"sk-label-container\"><div class=\"sk-label sk-toggleable\"><input class=\"sk-toggleable__control sk-hidden--visually\" id=\"sk-estimator-id-14\" type=\"checkbox\" ><label for=\"sk-estimator-id-14\" class=\"sk-toggleable__label sk-toggleable__label-arrow\">ColumnTransformer</label><div class=\"sk-toggleable__content\"><pre>ColumnTransformer(remainder=&#x27;passthrough&#x27;,\n",
       "                  transformers=[(&#x27;num_pipeline&#x27;,\n",
       "                                 Pipeline(steps=[(&#x27;transformer&#x27;,\n",
       "                                                  FunctionTransformer(func=&lt;ufunc &#x27;log1p&#x27;&gt;)),\n",
       "                                                 (&#x27;imputer&#x27;,\n",
       "                                                  SimpleImputer(strategy=&#x27;median&#x27;)),\n",
       "                                                 (&#x27;winsorize&#x27;,\n",
       "                                                  FunctionTransformer(func=&lt;function winsorize at 0x000002B5E11B75B0&gt;)),\n",
       "                                                 (&#x27;scaler&#x27;, StandardScaler())]),\n",
       "                                 [&#x27;ps_ind_01&#x27;, &#x27;ps_ind_02_cat&#x27;, &#x27;ps_ind_04_cat&#x27;,\n",
       "                                  &#x27;ps_i...\n",
       "                                  &#x27;ps_ind_17_bin&#x27;, &#x27;ps_ind_18_bin&#x27;, &#x27;ps_reg_01&#x27;,\n",
       "                                  &#x27;ps_car_02_cat&#x27;, &#x27;ps_car_03_cat&#x27;,\n",
       "                                  &#x27;ps_car_04_cat&#x27;, &#x27;ps_car_05_cat&#x27;,\n",
       "                                  &#x27;ps_car_07_cat&#x27;, &#x27;ps_car_08_cat&#x27;,\n",
       "                                  &#x27;ps_car_09_cat&#x27;, &#x27;ps_car_10_cat&#x27;, &#x27;ps_car_11&#x27;,\n",
       "                                  &#x27;ps_calc_01&#x27;, &#x27;ps_calc_02&#x27;, &#x27;ps_calc_03&#x27;,\n",
       "                                  &#x27;ps_calc_04&#x27;, ...]),\n",
       "                                (&#x27;cat_pipeline&#x27;,\n",
       "                                 Pipeline(steps=[(&#x27;imputer&#x27;,\n",
       "                                                  SimpleImputer(strategy=&#x27;most_frequent&#x27;)),\n",
       "                                                 (&#x27;encoder&#x27;, OneHotEncoder())]),\n",
       "                                 [])],\n",
       "                  verbose_feature_names_out=False)</pre></div></div></div><div class=\"sk-parallel\"><div class=\"sk-parallel-item\"><div class=\"sk-item\"><div class=\"sk-label-container\"><div class=\"sk-label sk-toggleable\"><input class=\"sk-toggleable__control sk-hidden--visually\" id=\"sk-estimator-id-15\" type=\"checkbox\" ><label for=\"sk-estimator-id-15\" class=\"sk-toggleable__label sk-toggleable__label-arrow\">num_pipeline</label><div class=\"sk-toggleable__content\"><pre>[&#x27;ps_ind_01&#x27;, &#x27;ps_ind_02_cat&#x27;, &#x27;ps_ind_04_cat&#x27;, &#x27;ps_ind_05_cat&#x27;, &#x27;ps_ind_06_bin&#x27;, &#x27;ps_ind_07_bin&#x27;, &#x27;ps_ind_08_bin&#x27;, &#x27;ps_ind_09_bin&#x27;, &#x27;ps_ind_10_bin&#x27;, &#x27;ps_ind_11_bin&#x27;, &#x27;ps_ind_12_bin&#x27;, &#x27;ps_ind_13_bin&#x27;, &#x27;ps_ind_14&#x27;, &#x27;ps_ind_16_bin&#x27;, &#x27;ps_ind_17_bin&#x27;, &#x27;ps_ind_18_bin&#x27;, &#x27;ps_reg_01&#x27;, &#x27;ps_car_02_cat&#x27;, &#x27;ps_car_03_cat&#x27;, &#x27;ps_car_04_cat&#x27;, &#x27;ps_car_05_cat&#x27;, &#x27;ps_car_07_cat&#x27;, &#x27;ps_car_08_cat&#x27;, &#x27;ps_car_09_cat&#x27;, &#x27;ps_car_10_cat&#x27;, &#x27;ps_car_11&#x27;, &#x27;ps_calc_01&#x27;, &#x27;ps_calc_02&#x27;, &#x27;ps_calc_03&#x27;, &#x27;ps_calc_04&#x27;, &#x27;ps_calc_05&#x27;, &#x27;ps_calc_06&#x27;, &#x27;ps_calc_07&#x27;, &#x27;ps_calc_09&#x27;, &#x27;ps_calc_12&#x27;, &#x27;ps_calc_15_bin&#x27;, &#x27;ps_calc_16_bin&#x27;, &#x27;ps_calc_17_bin&#x27;, &#x27;ps_calc_18_bin&#x27;, &#x27;ps_calc_19_bin&#x27;, &#x27;ps_calc_20_bin&#x27;, &#x27;ps_ind_03&#x27;, &#x27;ps_ind_15&#x27;, &#x27;ps_reg_02&#x27;, &#x27;ps_reg_03&#x27;, &#x27;ps_car_01_cat&#x27;, &#x27;ps_car_06_cat&#x27;, &#x27;ps_car_11_cat&#x27;, &#x27;ps_car_12&#x27;, &#x27;ps_car_13&#x27;, &#x27;ps_car_14&#x27;, &#x27;ps_car_15&#x27;, &#x27;ps_calc_08&#x27;, &#x27;ps_calc_10&#x27;, &#x27;ps_calc_11&#x27;, &#x27;ps_calc_13&#x27;, &#x27;ps_calc_14&#x27;]</pre></div></div></div><div class=\"sk-serial\"><div class=\"sk-item\"><div class=\"sk-serial\"><div class=\"sk-item\"><div class=\"sk-estimator sk-toggleable\"><input class=\"sk-toggleable__control sk-hidden--visually\" id=\"sk-estimator-id-16\" type=\"checkbox\" ><label for=\"sk-estimator-id-16\" class=\"sk-toggleable__label sk-toggleable__label-arrow\">FunctionTransformer</label><div class=\"sk-toggleable__content\"><pre>FunctionTransformer(func=&lt;ufunc &#x27;log1p&#x27;&gt;)</pre></div></div></div><div class=\"sk-item\"><div class=\"sk-estimator sk-toggleable\"><input class=\"sk-toggleable__control sk-hidden--visually\" id=\"sk-estimator-id-17\" type=\"checkbox\" ><label for=\"sk-estimator-id-17\" class=\"sk-toggleable__label sk-toggleable__label-arrow\">SimpleImputer</label><div class=\"sk-toggleable__content\"><pre>SimpleImputer(strategy=&#x27;median&#x27;)</pre></div></div></div><div class=\"sk-item\"><div class=\"sk-estimator sk-toggleable\"><input class=\"sk-toggleable__control sk-hidden--visually\" id=\"sk-estimator-id-18\" type=\"checkbox\" ><label for=\"sk-estimator-id-18\" class=\"sk-toggleable__label sk-toggleable__label-arrow\">FunctionTransformer</label><div class=\"sk-toggleable__content\"><pre>FunctionTransformer(func=&lt;function winsorize at 0x000002B5E11B75B0&gt;)</pre></div></div></div><div class=\"sk-item\"><div class=\"sk-estimator sk-toggleable\"><input class=\"sk-toggleable__control sk-hidden--visually\" id=\"sk-estimator-id-19\" type=\"checkbox\" ><label for=\"sk-estimator-id-19\" class=\"sk-toggleable__label sk-toggleable__label-arrow\">StandardScaler</label><div class=\"sk-toggleable__content\"><pre>StandardScaler()</pre></div></div></div></div></div></div></div></div><div class=\"sk-parallel-item\"><div class=\"sk-item\"><div class=\"sk-label-container\"><div class=\"sk-label sk-toggleable\"><input class=\"sk-toggleable__control sk-hidden--visually\" id=\"sk-estimator-id-20\" type=\"checkbox\" ><label for=\"sk-estimator-id-20\" class=\"sk-toggleable__label sk-toggleable__label-arrow\">cat_pipeline</label><div class=\"sk-toggleable__content\"><pre>[]</pre></div></div></div><div class=\"sk-serial\"><div class=\"sk-item\"><div class=\"sk-serial\"><div class=\"sk-item\"><div class=\"sk-estimator sk-toggleable\"><input class=\"sk-toggleable__control sk-hidden--visually\" id=\"sk-estimator-id-21\" type=\"checkbox\" ><label for=\"sk-estimator-id-21\" class=\"sk-toggleable__label sk-toggleable__label-arrow\">SimpleImputer</label><div class=\"sk-toggleable__content\"><pre>SimpleImputer(strategy=&#x27;most_frequent&#x27;)</pre></div></div></div><div class=\"sk-item\"><div class=\"sk-estimator sk-toggleable\"><input class=\"sk-toggleable__control sk-hidden--visually\" id=\"sk-estimator-id-22\" type=\"checkbox\" ><label for=\"sk-estimator-id-22\" class=\"sk-toggleable__label sk-toggleable__label-arrow\">OneHotEncoder</label><div class=\"sk-toggleable__content\"><pre>OneHotEncoder()</pre></div></div></div></div></div></div></div></div><div class=\"sk-parallel-item\"><div class=\"sk-item\"><div class=\"sk-label-container\"><div class=\"sk-label sk-toggleable\"><input class=\"sk-toggleable__control sk-hidden--visually\" id=\"sk-estimator-id-23\" type=\"checkbox\" ><label for=\"sk-estimator-id-23\" class=\"sk-toggleable__label sk-toggleable__label-arrow\">remainder</label><div class=\"sk-toggleable__content\"><pre>[]</pre></div></div></div><div class=\"sk-serial\"><div class=\"sk-item\"><div class=\"sk-estimator sk-toggleable\"><input class=\"sk-toggleable__control sk-hidden--visually\" id=\"sk-estimator-id-24\" type=\"checkbox\" ><label for=\"sk-estimator-id-24\" class=\"sk-toggleable__label sk-toggleable__label-arrow\">passthrough</label><div class=\"sk-toggleable__content\"><pre>passthrough</pre></div></div></div></div></div></div></div></div></div></div>"
      ],
      "text/plain": [
       "ColumnTransformer(remainder='passthrough',\n",
       "                  transformers=[('num_pipeline',\n",
       "                                 Pipeline(steps=[('transformer',\n",
       "                                                  FunctionTransformer(func=<ufunc 'log1p'>)),\n",
       "                                                 ('imputer',\n",
       "                                                  SimpleImputer(strategy='median')),\n",
       "                                                 ('winsorize',\n",
       "                                                  FunctionTransformer(func=<function winsorize at 0x000002B5E11B75B0>)),\n",
       "                                                 ('scaler', StandardScaler())]),\n",
       "                                 ['ps_ind_01', 'ps_ind_02_cat', 'ps_ind_04_cat',\n",
       "                                  'ps_i...\n",
       "                                  'ps_ind_17_bin', 'ps_ind_18_bin', 'ps_reg_01',\n",
       "                                  'ps_car_02_cat', 'ps_car_03_cat',\n",
       "                                  'ps_car_04_cat', 'ps_car_05_cat',\n",
       "                                  'ps_car_07_cat', 'ps_car_08_cat',\n",
       "                                  'ps_car_09_cat', 'ps_car_10_cat', 'ps_car_11',\n",
       "                                  'ps_calc_01', 'ps_calc_02', 'ps_calc_03',\n",
       "                                  'ps_calc_04', ...]),\n",
       "                                ('cat_pipeline',\n",
       "                                 Pipeline(steps=[('imputer',\n",
       "                                                  SimpleImputer(strategy='most_frequent')),\n",
       "                                                 ('encoder', OneHotEncoder())]),\n",
       "                                 [])],\n",
       "                  verbose_feature_names_out=False)"
      ]
     },
     "execution_count": 200,
     "metadata": {},
     "output_type": "execute_result"
    }
   ],
   "source": [
    "main_pipeline.fit(xtrain)"
   ]
  },
  {
   "cell_type": "code",
   "execution_count": 201,
   "id": "30709e27",
   "metadata": {},
   "outputs": [],
   "source": [
    "# preprocess data\n",
    "\n",
    "xtrain_preprocessed = main_pipeline.transform(xtrain)\n",
    "\n",
    "xtest_preprocessed = main_pipeline.transform(xtest)"
   ]
  },
  {
   "cell_type": "code",
   "execution_count": 202,
   "id": "0b922510",
   "metadata": {},
   "outputs": [],
   "source": [
    "# resample training data\n",
    "\n",
    "smote = SMOTE()\n",
    "\n",
    "xtrain_samp, ytrain_samp = smote.fit_resample(xtrain_preprocessed, ytrain)"
   ]
  },
  {
   "cell_type": "code",
   "execution_count": 203,
   "id": "e2f89b57",
   "metadata": {},
   "outputs": [],
   "source": [
    "param_grid = {'l1_ratio': np.linspace(0.5, 1.0, 10).tolist(),\n",
    "             'alpha': np.linspace(0.01, 1.0, 20).tolist()\n",
    "             }"
   ]
  },
  {
   "cell_type": "code",
   "execution_count": 204,
   "id": "95de728c",
   "metadata": {},
   "outputs": [],
   "source": [
    "# elastic net coef\n",
    "\n",
    "enet = ElasticNet(l1_ratio = 0.5, alpha = 0.01)\n",
    "\n",
    "grid = GridSearchCV(enet, param_grid, cv = StratifiedKFold(n_splits = 3), scoring = 'f1',refit = True)\n",
    "grid.fit(xtrain_samp, ytrain_samp)\n",
    "\n",
    "selected_cols = grid.best_estimator_.coef_"
   ]
  },
  {
   "cell_type": "code",
   "execution_count": 205,
   "id": "40863b3f",
   "metadata": {},
   "outputs": [],
   "source": [
    "enet_coefs = dict(zip(xtrain_samp.columns, selected_cols))"
   ]
  },
  {
   "cell_type": "code",
   "execution_count": 206,
   "id": "1c7a7311",
   "metadata": {},
   "outputs": [
    {
     "data": {
      "text/plain": [
       "(32, 57)"
      ]
     },
     "execution_count": 206,
     "metadata": {},
     "output_type": "execute_result"
    }
   ],
   "source": [
    "Important_columns = [column for column, value in enet_coefs.items() if abs(value) > 0]\n",
    "\n",
    "len(Important_columns), len(xtrain_samp.columns)"
   ]
  },
  {
   "cell_type": "code",
   "execution_count": 207,
   "id": "5dfd2376",
   "metadata": {},
   "outputs": [],
   "source": [
    "xtrain_samp = xtrain_samp[Important_columns]\n",
    "\n",
    "xtest_preprocessed = xtest_preprocessed[Important_columns]"
   ]
  },
  {
   "cell_type": "code",
   "execution_count": 208,
   "id": "33cae79b",
   "metadata": {},
   "outputs": [],
   "source": [
    "config['Model Training']['Preprocessor']['Important_columns'] = Important_columns"
   ]
  },
  {
   "cell_type": "code",
   "execution_count": 255,
   "id": "41520b2c",
   "metadata": {},
   "outputs": [],
   "source": [
    "# final_model = VotingClassifier([\n",
    "#     ('forest', RandomForestClassifier(**randomforest_best)),\n",
    "#     ('lgb', lgb.LGBMClassifier(**lightgbm_best))\n",
    "# ], voting = 'soft')\n",
    "\n",
    "final_model = RandomForestClassifier(**randomforest_best)"
   ]
  },
  {
   "cell_type": "code",
   "execution_count": 256,
   "id": "82839c5c",
   "metadata": {},
   "outputs": [
    {
     "data": {
      "text/html": [
       "<style>#sk-container-id-7 {color: black;background-color: white;}#sk-container-id-7 pre{padding: 0;}#sk-container-id-7 div.sk-toggleable {background-color: white;}#sk-container-id-7 label.sk-toggleable__label {cursor: pointer;display: block;width: 100%;margin-bottom: 0;padding: 0.3em;box-sizing: border-box;text-align: center;}#sk-container-id-7 label.sk-toggleable__label-arrow:before {content: \"▸\";float: left;margin-right: 0.25em;color: #696969;}#sk-container-id-7 label.sk-toggleable__label-arrow:hover:before {color: black;}#sk-container-id-7 div.sk-estimator:hover label.sk-toggleable__label-arrow:before {color: black;}#sk-container-id-7 div.sk-toggleable__content {max-height: 0;max-width: 0;overflow: hidden;text-align: left;background-color: #f0f8ff;}#sk-container-id-7 div.sk-toggleable__content pre {margin: 0.2em;color: black;border-radius: 0.25em;background-color: #f0f8ff;}#sk-container-id-7 input.sk-toggleable__control:checked~div.sk-toggleable__content {max-height: 200px;max-width: 100%;overflow: auto;}#sk-container-id-7 input.sk-toggleable__control:checked~label.sk-toggleable__label-arrow:before {content: \"▾\";}#sk-container-id-7 div.sk-estimator input.sk-toggleable__control:checked~label.sk-toggleable__label {background-color: #d4ebff;}#sk-container-id-7 div.sk-label input.sk-toggleable__control:checked~label.sk-toggleable__label {background-color: #d4ebff;}#sk-container-id-7 input.sk-hidden--visually {border: 0;clip: rect(1px 1px 1px 1px);clip: rect(1px, 1px, 1px, 1px);height: 1px;margin: -1px;overflow: hidden;padding: 0;position: absolute;width: 1px;}#sk-container-id-7 div.sk-estimator {font-family: monospace;background-color: #f0f8ff;border: 1px dotted black;border-radius: 0.25em;box-sizing: border-box;margin-bottom: 0.5em;}#sk-container-id-7 div.sk-estimator:hover {background-color: #d4ebff;}#sk-container-id-7 div.sk-parallel-item::after {content: \"\";width: 100%;border-bottom: 1px solid gray;flex-grow: 1;}#sk-container-id-7 div.sk-label:hover label.sk-toggleable__label {background-color: #d4ebff;}#sk-container-id-7 div.sk-serial::before {content: \"\";position: absolute;border-left: 1px solid gray;box-sizing: border-box;top: 0;bottom: 0;left: 50%;z-index: 0;}#sk-container-id-7 div.sk-serial {display: flex;flex-direction: column;align-items: center;background-color: white;padding-right: 0.2em;padding-left: 0.2em;position: relative;}#sk-container-id-7 div.sk-item {position: relative;z-index: 1;}#sk-container-id-7 div.sk-parallel {display: flex;align-items: stretch;justify-content: center;background-color: white;position: relative;}#sk-container-id-7 div.sk-item::before, #sk-container-id-7 div.sk-parallel-item::before {content: \"\";position: absolute;border-left: 1px solid gray;box-sizing: border-box;top: 0;bottom: 0;left: 50%;z-index: -1;}#sk-container-id-7 div.sk-parallel-item {display: flex;flex-direction: column;z-index: 1;position: relative;background-color: white;}#sk-container-id-7 div.sk-parallel-item:first-child::after {align-self: flex-end;width: 50%;}#sk-container-id-7 div.sk-parallel-item:last-child::after {align-self: flex-start;width: 50%;}#sk-container-id-7 div.sk-parallel-item:only-child::after {width: 0;}#sk-container-id-7 div.sk-dashed-wrapped {border: 1px dashed gray;margin: 0 0.4em 0.5em 0.4em;box-sizing: border-box;padding-bottom: 0.4em;background-color: white;}#sk-container-id-7 div.sk-label label {font-family: monospace;font-weight: bold;display: inline-block;line-height: 1.2em;}#sk-container-id-7 div.sk-label-container {text-align: center;}#sk-container-id-7 div.sk-container {/* jupyter's `normalize.less` sets `[hidden] { display: none; }` but bootstrap.min.css set `[hidden] { display: none !important; }` so we also need the `!important` here to be able to override the default hidden behavior on the sphinx rendered scikit-learn.org. See: https://github.com/scikit-learn/scikit-learn/issues/21755 */display: inline-block !important;position: relative;}#sk-container-id-7 div.sk-text-repr-fallback {display: none;}</style><div id=\"sk-container-id-7\" class=\"sk-top-container\"><div class=\"sk-text-repr-fallback\"><pre>RandomForestClassifier(ccp_alpha=0.8355154331803291, class_weight=&#x27;balanced&#x27;,\n",
       "                       max_depth=25, max_leaf_nodes=10, min_samples_split=16,\n",
       "                       min_weight_fraction_leaf=0.03164012540078487,\n",
       "                       n_estimators=251, warm_start=True)</pre><b>In a Jupyter environment, please rerun this cell to show the HTML representation or trust the notebook. <br />On GitHub, the HTML representation is unable to render, please try loading this page with nbviewer.org.</b></div><div class=\"sk-container\" hidden><div class=\"sk-item\"><div class=\"sk-estimator sk-toggleable\"><input class=\"sk-toggleable__control sk-hidden--visually\" id=\"sk-estimator-id-29\" type=\"checkbox\" checked><label for=\"sk-estimator-id-29\" class=\"sk-toggleable__label sk-toggleable__label-arrow\">RandomForestClassifier</label><div class=\"sk-toggleable__content\"><pre>RandomForestClassifier(ccp_alpha=0.8355154331803291, class_weight=&#x27;balanced&#x27;,\n",
       "                       max_depth=25, max_leaf_nodes=10, min_samples_split=16,\n",
       "                       min_weight_fraction_leaf=0.03164012540078487,\n",
       "                       n_estimators=251, warm_start=True)</pre></div></div></div></div></div>"
      ],
      "text/plain": [
       "RandomForestClassifier(ccp_alpha=0.8355154331803291, class_weight='balanced',\n",
       "                       max_depth=25, max_leaf_nodes=10, min_samples_split=16,\n",
       "                       min_weight_fraction_leaf=0.03164012540078487,\n",
       "                       n_estimators=251, warm_start=True)"
      ]
     },
     "execution_count": 256,
     "metadata": {},
     "output_type": "execute_result"
    }
   ],
   "source": [
    "# fit model\n",
    "\n",
    "final_model.fit(xtrain_samp, ytrain_samp)"
   ]
  },
  {
   "cell_type": "code",
   "execution_count": 257,
   "id": "43857cd9",
   "metadata": {},
   "outputs": [],
   "source": [
    "y_train_pred = final_model.predict(xtrain_samp)\n",
    "\n",
    "y_train_proba = final_model.predict_proba(xtrain_samp)[:, 1]"
   ]
  },
  {
   "cell_type": "code",
   "execution_count": 258,
   "id": "fb52e4b0",
   "metadata": {
    "scrolled": true
   },
   "outputs": [
    {
     "name": "stdout",
     "output_type": "stream",
     "text": [
      "Starting evaluation.....\n"
     ]
    },
    {
     "data": {
      "image/png": "[encoded data removed]",
      "text/plain": [
       "<Figure size 640x480 with 2 Axes>"
      ]
     },
     "metadata": {},
     "output_type": "display_data"
    },
    {
     "data": {
      "image/png": "[encoded data removed]",
      "text/plain": [
       "<Figure size 640x480 with 1 Axes>"
      ]
     },
     "metadata": {},
     "output_type": "display_data"
    },
    {
     "data": {
      "image/png": "[encoded data removed]",
      "text/plain": [
       "<Figure size 640x480 with 1 Axes>"
      ]
     },
     "metadata": {},
     "output_type": "display_data"
    },
    {
     "name": "stdout",
     "output_type": "stream",
     "text": [
      "              precision    recall  f1-score   support\n",
      "\n",
      "         0.0       0.50      1.00      0.67    487490\n",
      "         1.0       0.00      0.00      0.00    487490\n",
      "\n",
      "    accuracy                           0.50    974980\n",
      "   macro avg       0.25      0.50      0.33    974980\n",
      "weighted avg       0.25      0.50      0.33    974980\n",
      "\n"
     ]
    },
    {
     "data": {
      "text/html": [
       "<div>\n",
       "<style scoped>\n",
       "    .dataframe tbody tr th:only-of-type {\n",
       "        vertical-align: middle;\n",
       "    }\n",
       "\n",
       "    .dataframe tbody tr th {\n",
       "        vertical-align: top;\n",
       "    }\n",
       "\n",
       "    .dataframe thead th {\n",
       "        text-align: right;\n",
       "    }\n",
       "</style>\n",
       "<table border=\"1\" class=\"dataframe\">\n",
       "  <thead>\n",
       "    <tr style=\"text-align: right;\">\n",
       "      <th></th>\n",
       "      <th>Set type</th>\n",
       "      <th>AUC</th>\n",
       "      <th>F1</th>\n",
       "      <th>Accuracy</th>\n",
       "      <th>Precision</th>\n",
       "      <th>Recall</th>\n",
       "    </tr>\n",
       "  </thead>\n",
       "  <tbody>\n",
       "    <tr>\n",
       "      <th>0</th>\n",
       "      <td>Train</td>\n",
       "      <td>0.5</td>\n",
       "      <td>0.0</td>\n",
       "      <td>0.5</td>\n",
       "      <td>0.0</td>\n",
       "      <td>0.0</td>\n",
       "    </tr>\n",
       "  </tbody>\n",
       "</table>\n",
       "</div>"
      ],
      "text/plain": [
       "  Set type  AUC   F1  Accuracy  Precision  Recall\n",
       "0    Train  0.5  0.0       0.5        0.0     0.0"
      ]
     },
     "execution_count": 258,
     "metadata": {},
     "output_type": "execute_result"
    }
   ],
   "source": [
    "train_results = evaluate_sets(ytrain_samp, y_train_pred, y_train_proba, \n",
    "                              'Train', 'Voting Ensemble Train')\n",
    "\n",
    "train_results"
   ]
  },
  {
   "cell_type": "markdown",
   "id": "54a160f0",
   "metadata": {},
   "source": [
    "# Testing"
   ]
  },
  {
   "cell_type": "code",
   "execution_count": 259,
   "id": "0bd92775",
   "metadata": {},
   "outputs": [],
   "source": [
    "y_test_pred = final_model.predict(xtest_preprocessed)\n",
    "\n",
    "y_test_proba = final_model.predict_proba(xtest_preprocessed)[:, 1]"
   ]
  },
  {
   "cell_type": "code",
   "execution_count": 260,
   "id": "661bbb4a",
   "metadata": {
    "scrolled": true
   },
   "outputs": [
    {
     "name": "stdout",
     "output_type": "stream",
     "text": [
      "Starting evaluation.....\n"
     ]
    },
    {
     "data": {
      "image/png": "[encoded data removed]",
      "text/plain": [
       "<Figure size 640x480 with 2 Axes>"
      ]
     },
     "metadata": {},
     "output_type": "display_data"
    },
    {
     "data": {
      "image/png": "[encoded data removed]",
      "text/plain": [
       "<Figure size 640x480 with 1 Axes>"
      ]
     },
     "metadata": {},
     "output_type": "display_data"
    },
    {
     "data": {
      "image/png": "[encoded data removed]",
      "text/plain": [
       "<Figure size 640x480 with 1 Axes>"
      ]
     },
     "metadata": {},
     "output_type": "display_data"
    },
    {
     "name": "stdout",
     "output_type": "stream",
     "text": [
      "              precision    recall  f1-score   support\n",
      "\n",
      "         0.0       0.96      1.00      0.98     86028\n",
      "         1.0       0.00      0.00      0.00      3254\n",
      "\n",
      "    accuracy                           0.96     89282\n",
      "   macro avg       0.48      0.50      0.49     89282\n",
      "weighted avg       0.93      0.96      0.95     89282\n",
      "\n"
     ]
    },
    {
     "data": {
      "text/html": [
       "<div>\n",
       "<style scoped>\n",
       "    .dataframe tbody tr th:only-of-type {\n",
       "        vertical-align: middle;\n",
       "    }\n",
       "\n",
       "    .dataframe tbody tr th {\n",
       "        vertical-align: top;\n",
       "    }\n",
       "\n",
       "    .dataframe thead th {\n",
       "        text-align: right;\n",
       "    }\n",
       "</style>\n",
       "<table border=\"1\" class=\"dataframe\">\n",
       "  <thead>\n",
       "    <tr style=\"text-align: right;\">\n",
       "      <th></th>\n",
       "      <th>Set type</th>\n",
       "      <th>AUC</th>\n",
       "      <th>F1</th>\n",
       "      <th>Accuracy</th>\n",
       "      <th>Precision</th>\n",
       "      <th>Recall</th>\n",
       "    </tr>\n",
       "  </thead>\n",
       "  <tbody>\n",
       "    <tr>\n",
       "      <th>0</th>\n",
       "      <td>Test</td>\n",
       "      <td>0.5</td>\n",
       "      <td>0.0</td>\n",
       "      <td>0.963554</td>\n",
       "      <td>0.0</td>\n",
       "      <td>0.0</td>\n",
       "    </tr>\n",
       "  </tbody>\n",
       "</table>\n",
       "</div>"
      ],
      "text/plain": [
       "  Set type  AUC   F1  Accuracy  Precision  Recall\n",
       "0     Test  0.5  0.0  0.963554        0.0     0.0"
      ]
     },
     "execution_count": 260,
     "metadata": {},
     "output_type": "execute_result"
    }
   ],
   "source": [
    "test_results = evaluate_sets(ytest, y_test_pred, y_test_proba, \n",
    "                             'Test', 'Voting Ensemble Test')\n",
    "\n",
    "test_results"
   ]
  },
  {
   "cell_type": "markdown",
   "id": "ea8010e0",
   "metadata": {},
   "source": [
    "# Save to config"
   ]
  },
  {
   "cell_type": "code",
   "execution_count": 266,
   "id": "1385b881",
   "metadata": {},
   "outputs": [],
   "source": [
    "# Serializing json\n",
    "json_object = json.dumps(config, indent=4)\n",
    " \n",
    "# Writing to sample.json\n",
    "with open(\"C:/Users/Oamen/OneDrive/Documents/DATA PROJECTS/Insurance_claim_prediction_porto/config.json\", \"w\") as outfile:\n",
    "    outfile.write(json_object)"
   ]
  },
  {
   "cell_type": "code",
   "execution_count": null,
   "id": "62214267",
   "metadata": {},
   "outputs": [],
   "source": []
  },
  {
   "cell_type": "code",
   "execution_count": null,
   "id": "63a1975e",
   "metadata": {},
   "outputs": [],
   "source": []
  },
  {
   "cell_type": "code",
   "execution_count": null,
   "id": "d13370bf",
   "metadata": {},
   "outputs": [],
   "source": []
  },
  {
   "cell_type": "code",
   "execution_count": null,
   "id": "8346db41",
   "metadata": {},
   "outputs": [],
   "source": []
  },
  {
   "cell_type": "code",
   "execution_count": null,
   "id": "8147cf4a",
   "metadata": {},
   "outputs": [],
   "source": []
  },
  {
   "cell_type": "code",
   "execution_count": null,
   "id": "8db5b418",
   "metadata": {},
   "outputs": [],
   "source": []
  }
 ],
 "metadata": {
  "kernelspec": {
   "display_name": "Python 3 (ipykernel)",
   "language": "python",
   "name": "python3"
  },
  "language_info": {
   "codemirror_mode": {
    "name": "ipython",
    "version": 3
   },
   "file_extension": ".py",
   "mimetype": "text/x-python",
   "name": "python",
   "nbconvert_exporter": "python",
   "pygments_lexer": "ipython3",
   "version": "3.10.9"
  }
 },
 "nbformat": 4,
 "nbformat_minor": 5
}
